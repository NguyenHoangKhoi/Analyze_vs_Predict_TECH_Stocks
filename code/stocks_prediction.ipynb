{
  "nbformat": 4,
  "nbformat_minor": 0,
  "metadata": {
    "colab": {
      "name": "stocks_prediction.ipynb",
      "provenance": [],
      "collapsed_sections": []
    },
    "kernelspec": {
      "name": "python3",
      "display_name": "Python 3"
    },
    "language_info": {
      "name": "python"
    }
  },
  "cells": [
    {
      "cell_type": "markdown",
      "metadata": {
        "id": "cHfV26X4orHr"
      },
      "source": [
        "# Analysic model with ARIMA and SARIMA\n",
        "## 1.  AutoCorrelation and Partial AutoCorrelation (ACF, PACF)\n",
        "## 2. Stationarity\n",
        "Non-stationarity is caused by:\n",
        "1. Trend\n",
        "1. Seasonality \n",
        "### Augmented Dickey–Fuller test for stationarity\n",
        "Link: https://en.wikipedia.org/wiki/Augmented_Dickey%E2%80%93Fuller_test\n",
        "### Making Time Series Stationary with Differencing\n",
        "# ARIMA\n",
        "### Using `auto_arima` to find the best parameters\n",
        "\n",
        "Link to Python function: https://alkaline-ml.com/pmdarima/modules/generated/pmdarima.arima.auto_arima.html\n",
        "\n",
        "\n",
        "The function in Python is based on the R function `auto.arima` which is better documented and explained here: https://www.rdocumentation.org/packages/forecast/versions/8.14/topics/auto.arima"
      ]
    },
    {
      "cell_type": "code",
      "metadata": {
        "id": "eC1Fqbveo_nk"
      },
      "source": [
        "import numpy as np\n",
        "import pandas as pd\n",
        "#import data\n",
        "import matplotlib.pyplot as plt\n",
        "import seaborn as sns \n",
        "sns.set(rc={'figure.figsize':(11.7,8.27)})\n",
        "from pandas_datareader import data\n",
        "import datetime\n",
        "from bokeh.plotting import show, output_file\n",
        "#from kora.bokeh import figure"
      ],
      "execution_count": 77,
      "outputs": []
    },
    {
      "cell_type": "code",
      "metadata": {
        "id": "YSuECQ3RpFza"
      },
      "source": [
        "from sklearn.model_selection import train_test_split\n",
        "from sklearn.tree import DecisionTreeClassifier\n",
        "from sklearn.linear_model import LinearRegression\n",
        "import statsmodels.api as sm\n",
        "from statsmodels.graphics.tsaplots import plot_acf, plot_pacf\n",
        "from statsmodels.tsa.stattools import adfuller\n",
        "from statsmodels.tsa.seasonal import seasonal_decompose\n",
        "from statsmodels.tsa.statespace.sarimax import SARIMAX\n",
        "from sklearn.metrics import mean_squared_error, r2_score, mean_absolute_error, median_absolute_error, mean_squared_log_error"
      ],
      "execution_count": 78,
      "outputs": []
    },
    {
      "cell_type": "code",
      "metadata": {
        "colab": {
          "base_uri": "https://localhost:8080/",
          "height": 484
        },
        "id": "rXs_ADHRorfF",
        "outputId": "7151ecc4-6e3e-43f6-c693-9ea1bb9581a3"
      },
      "source": [
        "!pip install yfinance\n",
        "import yfinance as yf\n",
        "dataGOOG = yf.download('GOOG','2014-03-27','2019-07-02')\n",
        "dataGOOG.head()"
      ],
      "execution_count": 117,
      "outputs": [
        {
          "output_type": "stream",
          "text": [
            "Requirement already satisfied: yfinance in /usr/local/lib/python3.7/dist-packages (0.1.60)\n",
            "Requirement already satisfied: lxml>=4.5.1 in /usr/local/lib/python3.7/dist-packages (from yfinance) (4.6.3)\n",
            "Requirement already satisfied: numpy>=1.15 in /usr/local/lib/python3.7/dist-packages (from yfinance) (1.19.5)\n",
            "Requirement already satisfied: multitasking>=0.0.7 in /usr/local/lib/python3.7/dist-packages (from yfinance) (0.0.9)\n",
            "Requirement already satisfied: pandas>=0.24 in /usr/local/lib/python3.7/dist-packages (from yfinance) (1.1.5)\n",
            "Requirement already satisfied: requests>=2.20 in /usr/local/lib/python3.7/dist-packages (from yfinance) (2.23.0)\n",
            "Requirement already satisfied: pytz>=2017.2 in /usr/local/lib/python3.7/dist-packages (from pandas>=0.24->yfinance) (2018.9)\n",
            "Requirement already satisfied: python-dateutil>=2.7.3 in /usr/local/lib/python3.7/dist-packages (from pandas>=0.24->yfinance) (2.8.1)\n",
            "Requirement already satisfied: certifi>=2017.4.17 in /usr/local/lib/python3.7/dist-packages (from requests>=2.20->yfinance) (2021.5.30)\n",
            "Requirement already satisfied: idna<3,>=2.5 in /usr/local/lib/python3.7/dist-packages (from requests>=2.20->yfinance) (2.10)\n",
            "Requirement already satisfied: chardet<4,>=3.0.2 in /usr/local/lib/python3.7/dist-packages (from requests>=2.20->yfinance) (3.0.4)\n",
            "Requirement already satisfied: urllib3!=1.25.0,!=1.25.1,<1.26,>=1.21.1 in /usr/local/lib/python3.7/dist-packages (from requests>=2.20->yfinance) (1.24.3)\n",
            "Requirement already satisfied: six>=1.5 in /usr/local/lib/python3.7/dist-packages (from python-dateutil>=2.7.3->pandas>=0.24->yfinance) (1.15.0)\n",
            "[*********************100%***********************]  1 of 1 completed\n"
          ],
          "name": "stdout"
        },
        {
          "output_type": "execute_result",
          "data": {
            "text/html": [
              "<div>\n",
              "<style scoped>\n",
              "    .dataframe tbody tr th:only-of-type {\n",
              "        vertical-align: middle;\n",
              "    }\n",
              "\n",
              "    .dataframe tbody tr th {\n",
              "        vertical-align: top;\n",
              "    }\n",
              "\n",
              "    .dataframe thead th {\n",
              "        text-align: right;\n",
              "    }\n",
              "</style>\n",
              "<table border=\"1\" class=\"dataframe\">\n",
              "  <thead>\n",
              "    <tr style=\"text-align: right;\">\n",
              "      <th></th>\n",
              "      <th>Open</th>\n",
              "      <th>High</th>\n",
              "      <th>Low</th>\n",
              "      <th>Close</th>\n",
              "      <th>Adj Close</th>\n",
              "      <th>Volume</th>\n",
              "    </tr>\n",
              "    <tr>\n",
              "      <th>Date</th>\n",
              "      <th></th>\n",
              "      <th></th>\n",
              "      <th></th>\n",
              "      <th></th>\n",
              "      <th></th>\n",
              "      <th></th>\n",
              "    </tr>\n",
              "  </thead>\n",
              "  <tbody>\n",
              "    <tr>\n",
              "      <th>2014-03-27</th>\n",
              "      <td>566.444824</td>\n",
              "      <td>566.444824</td>\n",
              "      <td>551.406128</td>\n",
              "      <td>556.930969</td>\n",
              "      <td>556.930969</td>\n",
              "      <td>13136</td>\n",
              "    </tr>\n",
              "    <tr>\n",
              "      <th>2014-03-28</th>\n",
              "      <td>559.663452</td>\n",
              "      <td>564.879150</td>\n",
              "      <td>557.140381</td>\n",
              "      <td>558.456787</td>\n",
              "      <td>558.456787</td>\n",
              "      <td>41213</td>\n",
              "    </tr>\n",
              "    <tr>\n",
              "      <th>2014-03-31</th>\n",
              "      <td>565.337891</td>\n",
              "      <td>565.447571</td>\n",
              "      <td>555.405151</td>\n",
              "      <td>555.445007</td>\n",
              "      <td>555.445007</td>\n",
              "      <td>10830</td>\n",
              "    </tr>\n",
              "    <tr>\n",
              "      <th>2014-04-01</th>\n",
              "      <td>557.180237</td>\n",
              "      <td>566.893616</td>\n",
              "      <td>557.180237</td>\n",
              "      <td>565.607117</td>\n",
              "      <td>565.607117</td>\n",
              "      <td>7922</td>\n",
              "    </tr>\n",
              "    <tr>\n",
              "      <th>2014-04-02</th>\n",
              "      <td>598.347229</td>\n",
              "      <td>603.174011</td>\n",
              "      <td>560.650757</td>\n",
              "      <td>565.447571</td>\n",
              "      <td>565.447571</td>\n",
              "      <td>147103</td>\n",
              "    </tr>\n",
              "  </tbody>\n",
              "</table>\n",
              "</div>"
            ],
            "text/plain": [
              "                  Open        High         Low       Close   Adj Close  Volume\n",
              "Date                                                                          \n",
              "2014-03-27  566.444824  566.444824  551.406128  556.930969  556.930969   13136\n",
              "2014-03-28  559.663452  564.879150  557.140381  558.456787  558.456787   41213\n",
              "2014-03-31  565.337891  565.447571  555.405151  555.445007  555.445007   10830\n",
              "2014-04-01  557.180237  566.893616  557.180237  565.607117  565.607117    7922\n",
              "2014-04-02  598.347229  603.174011  560.650757  565.447571  565.447571  147103"
            ]
          },
          "metadata": {
            "tags": []
          },
          "execution_count": 117
        }
      ]
    },
    {
      "cell_type": "code",
      "metadata": {
        "colab": {
          "base_uri": "https://localhost:8080/",
          "height": 449
        },
        "id": "XX3XeapkowOh",
        "outputId": "67e495ee-4fc7-4672-b87d-9ad5a6d5eb59"
      },
      "source": [
        "#Remove the date column\n",
        "remove_list = ['High','Low','Open','Volume','High','Adj Close'] \n",
        "dataGOOG = dataGOOG.drop(columns=remove_list)\n",
        "dataGOOG"
      ],
      "execution_count": 118,
      "outputs": [
        {
          "output_type": "execute_result",
          "data": {
            "text/html": [
              "<div>\n",
              "<style scoped>\n",
              "    .dataframe tbody tr th:only-of-type {\n",
              "        vertical-align: middle;\n",
              "    }\n",
              "\n",
              "    .dataframe tbody tr th {\n",
              "        vertical-align: top;\n",
              "    }\n",
              "\n",
              "    .dataframe thead th {\n",
              "        text-align: right;\n",
              "    }\n",
              "</style>\n",
              "<table border=\"1\" class=\"dataframe\">\n",
              "  <thead>\n",
              "    <tr style=\"text-align: right;\">\n",
              "      <th></th>\n",
              "      <th>Close</th>\n",
              "    </tr>\n",
              "    <tr>\n",
              "      <th>Date</th>\n",
              "      <th></th>\n",
              "    </tr>\n",
              "  </thead>\n",
              "  <tbody>\n",
              "    <tr>\n",
              "      <th>2014-03-27</th>\n",
              "      <td>556.930969</td>\n",
              "    </tr>\n",
              "    <tr>\n",
              "      <th>2014-03-28</th>\n",
              "      <td>558.456787</td>\n",
              "    </tr>\n",
              "    <tr>\n",
              "      <th>2014-03-31</th>\n",
              "      <td>555.445007</td>\n",
              "    </tr>\n",
              "    <tr>\n",
              "      <th>2014-04-01</th>\n",
              "      <td>565.607117</td>\n",
              "    </tr>\n",
              "    <tr>\n",
              "      <th>2014-04-02</th>\n",
              "      <td>565.447571</td>\n",
              "    </tr>\n",
              "    <tr>\n",
              "      <th>...</th>\n",
              "      <td>...</td>\n",
              "    </tr>\n",
              "    <tr>\n",
              "      <th>2019-06-25</th>\n",
              "      <td>1086.349976</td>\n",
              "    </tr>\n",
              "    <tr>\n",
              "      <th>2019-06-26</th>\n",
              "      <td>1079.800049</td>\n",
              "    </tr>\n",
              "    <tr>\n",
              "      <th>2019-06-27</th>\n",
              "      <td>1076.010010</td>\n",
              "    </tr>\n",
              "    <tr>\n",
              "      <th>2019-06-28</th>\n",
              "      <td>1080.910034</td>\n",
              "    </tr>\n",
              "    <tr>\n",
              "      <th>2019-07-01</th>\n",
              "      <td>1097.949951</td>\n",
              "    </tr>\n",
              "  </tbody>\n",
              "</table>\n",
              "<p>1325 rows × 1 columns</p>\n",
              "</div>"
            ],
            "text/plain": [
              "                  Close\n",
              "Date                   \n",
              "2014-03-27   556.930969\n",
              "2014-03-28   558.456787\n",
              "2014-03-31   555.445007\n",
              "2014-04-01   565.607117\n",
              "2014-04-02   565.447571\n",
              "...                 ...\n",
              "2019-06-25  1086.349976\n",
              "2019-06-26  1079.800049\n",
              "2019-06-27  1076.010010\n",
              "2019-06-28  1080.910034\n",
              "2019-07-01  1097.949951\n",
              "\n",
              "[1325 rows x 1 columns]"
            ]
          },
          "metadata": {
            "tags": []
          },
          "execution_count": 118
        }
      ]
    },
    {
      "cell_type": "markdown",
      "metadata": {
        "id": "RRHPMLBdo1cL"
      },
      "source": [
        "#1. AutoCorrelation and Partial AutoCorrelation (ACF, PACF)"
      ]
    },
    {
      "cell_type": "code",
      "metadata": {
        "colab": {
          "base_uri": "https://localhost:8080/",
          "height": 516
        },
        "id": "3NtMWIovozbD",
        "outputId": "cadcdb45-3b89-4e5a-a4e4-3fc50c5b2d9b"
      },
      "source": [
        "plt = plot_acf(dataGOOG, lags=50)\n",
        "plt.show()"
      ],
      "execution_count": 119,
      "outputs": [
        {
          "output_type": "display_data",
          "data": {
            "image/png": "[encoded data removed]",
            "text/plain": [
              "<Figure size 842.4x595.44 with 1 Axes>"
            ]
          },
          "metadata": {
            "tags": []
          }
        }
      ]
    },
    {
      "cell_type": "code",
      "metadata": {
        "colab": {
          "base_uri": "https://localhost:8080/",
          "height": 516
        },
        "id": "JcGZJczXo5aG",
        "outputId": "860e2c21-713d-4af5-c504-331d152193bf"
      },
      "source": [
        "plt = plot_pacf(dataGOOG, lags=50)\n",
        "plt.show()"
      ],
      "execution_count": 120,
      "outputs": [
        {
          "output_type": "display_data",
          "data": {
            "image/png": "[encoded data removed]",
            "text/plain": [
              "<Figure size 842.4x595.44 with 1 Axes>"
            ]
          },
          "metadata": {
            "tags": []
          }
        }
      ]
    },
    {
      "cell_type": "markdown",
      "metadata": {
        "id": "jUgtqh3FpZwk"
      },
      "source": [
        "## Stationarity\n",
        "\n",
        "Non-stationarity is caused by:\n",
        "1. Trend\n",
        "1. Seasonality"
      ]
    },
    {
      "cell_type": "markdown",
      "metadata": {
        "id": "n6O39jZvpcwK"
      },
      "source": [
        "### Augmented Dickey–Fuller test for stationarity\n",
        "Link: https://en.wikipedia.org/wiki/Augmented_Dickey%E2%80%93Fuller_test"
      ]
    },
    {
      "cell_type": "code",
      "metadata": {
        "colab": {
          "base_uri": "https://localhost:8080/"
        },
        "id": "ZMyM5KgJpWjz",
        "outputId": "c91c465f-3d6f-489a-ad77-021b544e52d1"
      },
      "source": [
        "print ('Results of Dickey-Fuller Test:')\n",
        "dftest = adfuller(dataGOOG['Close'])\n",
        "dftest\n",
        "dfoutput = pd.Series(dftest[0:4], index=['Test Statistic','p-value','#Lags Used','Number of Observations Used'])\n",
        "\n",
        "for key, value in dftest[4].items():\n",
        "    dfoutput['Critical Value (%s)'%key] = value\n",
        "print(dfoutput)"
      ],
      "execution_count": 121,
      "outputs": [
        {
          "output_type": "stream",
          "text": [
            "Results of Dickey-Fuller Test:\n",
            "Test Statistic                   -0.845669\n",
            "p-value                           0.805338\n",
            "#Lags Used                       11.000000\n",
            "Number of Observations Used    1313.000000\n",
            "Critical Value (1%)              -3.435340\n",
            "Critical Value (5%)              -2.863744\n",
            "Critical Value (10%)             -2.567943\n",
            "dtype: float64\n"
          ],
          "name": "stdout"
        }
      ]
    },
    {
      "cell_type": "markdown",
      "metadata": {
        "id": "gB5ZI_A-pi8s"
      },
      "source": [
        "#### p-value> 0.05 (or 5%) --> This original time series is not stationary."
      ]
    },
    {
      "cell_type": "markdown",
      "metadata": {
        "id": "7hK4PJevpmdM"
      },
      "source": [
        "### Making Time Series Stationary with Differencing"
      ]
    },
    {
      "cell_type": "code",
      "metadata": {
        "colab": {
          "base_uri": "https://localhost:8080/",
          "height": 235
        },
        "id": "QXYdJ9mNpfYb",
        "outputId": "259260f5-58fd-43f6-c457-f9341382aa89"
      },
      "source": [
        "# Original Series\n",
        "\n",
        "dataGOOG.head()"
      ],
      "execution_count": 122,
      "outputs": [
        {
          "output_type": "execute_result",
          "data": {
            "text/html": [
              "<div>\n",
              "<style scoped>\n",
              "    .dataframe tbody tr th:only-of-type {\n",
              "        vertical-align: middle;\n",
              "    }\n",
              "\n",
              "    .dataframe tbody tr th {\n",
              "        vertical-align: top;\n",
              "    }\n",
              "\n",
              "    .dataframe thead th {\n",
              "        text-align: right;\n",
              "    }\n",
              "</style>\n",
              "<table border=\"1\" class=\"dataframe\">\n",
              "  <thead>\n",
              "    <tr style=\"text-align: right;\">\n",
              "      <th></th>\n",
              "      <th>Close</th>\n",
              "    </tr>\n",
              "    <tr>\n",
              "      <th>Date</th>\n",
              "      <th></th>\n",
              "    </tr>\n",
              "  </thead>\n",
              "  <tbody>\n",
              "    <tr>\n",
              "      <th>2014-03-27</th>\n",
              "      <td>556.930969</td>\n",
              "    </tr>\n",
              "    <tr>\n",
              "      <th>2014-03-28</th>\n",
              "      <td>558.456787</td>\n",
              "    </tr>\n",
              "    <tr>\n",
              "      <th>2014-03-31</th>\n",
              "      <td>555.445007</td>\n",
              "    </tr>\n",
              "    <tr>\n",
              "      <th>2014-04-01</th>\n",
              "      <td>565.607117</td>\n",
              "    </tr>\n",
              "    <tr>\n",
              "      <th>2014-04-02</th>\n",
              "      <td>565.447571</td>\n",
              "    </tr>\n",
              "  </tbody>\n",
              "</table>\n",
              "</div>"
            ],
            "text/plain": [
              "                 Close\n",
              "Date                  \n",
              "2014-03-27  556.930969\n",
              "2014-03-28  558.456787\n",
              "2014-03-31  555.445007\n",
              "2014-04-01  565.607117\n",
              "2014-04-02  565.447571"
            ]
          },
          "metadata": {
            "tags": []
          },
          "execution_count": 122
        }
      ]
    },
    {
      "cell_type": "code",
      "metadata": {
        "colab": {
          "base_uri": "https://localhost:8080/",
          "height": 235
        },
        "id": "ap2zom8jpoXZ",
        "outputId": "ac11d7d9-e95a-40ad-aa36-90fb4ad96338"
      },
      "source": [
        "# (First-order) Differencing\n",
        "\n",
        "dataGOOG = dataGOOG.diff()\n",
        "dataGOOG.head() "
      ],
      "execution_count": 123,
      "outputs": [
        {
          "output_type": "execute_result",
          "data": {
            "text/html": [
              "<div>\n",
              "<style scoped>\n",
              "    .dataframe tbody tr th:only-of-type {\n",
              "        vertical-align: middle;\n",
              "    }\n",
              "\n",
              "    .dataframe tbody tr th {\n",
              "        vertical-align: top;\n",
              "    }\n",
              "\n",
              "    .dataframe thead th {\n",
              "        text-align: right;\n",
              "    }\n",
              "</style>\n",
              "<table border=\"1\" class=\"dataframe\">\n",
              "  <thead>\n",
              "    <tr style=\"text-align: right;\">\n",
              "      <th></th>\n",
              "      <th>Close</th>\n",
              "    </tr>\n",
              "    <tr>\n",
              "      <th>Date</th>\n",
              "      <th></th>\n",
              "    </tr>\n",
              "  </thead>\n",
              "  <tbody>\n",
              "    <tr>\n",
              "      <th>2014-03-27</th>\n",
              "      <td>NaN</td>\n",
              "    </tr>\n",
              "    <tr>\n",
              "      <th>2014-03-28</th>\n",
              "      <td>1.525818</td>\n",
              "    </tr>\n",
              "    <tr>\n",
              "      <th>2014-03-31</th>\n",
              "      <td>-3.011780</td>\n",
              "    </tr>\n",
              "    <tr>\n",
              "      <th>2014-04-01</th>\n",
              "      <td>10.162109</td>\n",
              "    </tr>\n",
              "    <tr>\n",
              "      <th>2014-04-02</th>\n",
              "      <td>-0.159546</td>\n",
              "    </tr>\n",
              "  </tbody>\n",
              "</table>\n",
              "</div>"
            ],
            "text/plain": [
              "                Close\n",
              "Date                 \n",
              "2014-03-27        NaN\n",
              "2014-03-28   1.525818\n",
              "2014-03-31  -3.011780\n",
              "2014-04-01  10.162109\n",
              "2014-04-02  -0.159546"
            ]
          },
          "metadata": {
            "tags": []
          },
          "execution_count": 123
        }
      ]
    },
    {
      "cell_type": "code",
      "metadata": {
        "colab": {
          "base_uri": "https://localhost:8080/",
          "height": 535
        },
        "id": "Gydwx0sOpuL8",
        "outputId": "df330a16-8000-4567-9998-a704657d2972"
      },
      "source": [
        "# Plot differenced series\n",
        "sns.lineplot(data=dataGOOG, x=\"Date\", y=\"Close\")"
      ],
      "execution_count": 124,
      "outputs": [
        {
          "output_type": "execute_result",
          "data": {
            "text/plain": [
              "<matplotlib.axes._subplots.AxesSubplot at 0x7ff384f0ca10>"
            ]
          },
          "metadata": {
            "tags": []
          },
          "execution_count": 124
        },
        {
          "output_type": "display_data",
          "data": {
            "image/png": "[encoded data removed]",
            "text/plain": [
              "<Figure size 842.4x595.44 with 1 Axes>"
            ]
          },
          "metadata": {
            "tags": []
          }
        }
      ]
    },
    {
      "cell_type": "code",
      "metadata": {
        "colab": {
          "base_uri": "https://localhost:8080/",
          "height": 535
        },
        "id": "_qMJpxitpuwS",
        "outputId": "efa580b3-5d1b-4225-8c6b-c3631d2fe6a8"
      },
      "source": [
        "# Seasonal Differencing\n",
        "\n",
        "dataGOOG = dataGOOG.diff(30)\n",
        "\n",
        "sns.lineplot(data=dataGOOG, x=\"Date\", y=\"Close\")"
      ],
      "execution_count": 125,
      "outputs": [
        {
          "output_type": "execute_result",
          "data": {
            "text/plain": [
              "<matplotlib.axes._subplots.AxesSubplot at 0x7ff384e65950>"
            ]
          },
          "metadata": {
            "tags": []
          },
          "execution_count": 125
        },
        {
          "output_type": "display_data",
          "data": {
            "image/png": "[encoded data removed]",
            "text/plain": [
              "<Figure size 842.4x595.44 with 1 Axes>"
            ]
          },
          "metadata": {
            "tags": []
          }
        }
      ]
    },
    {
      "cell_type": "code",
      "metadata": {
        "colab": {
          "base_uri": "https://localhost:8080/",
          "height": 535
        },
        "id": "R3zo8dqupxll",
        "outputId": "5901a21e-92dc-4f72-c1b9-c4492f87f97a"
      },
      "source": [
        "# Combine Normal Differencing with Seasonal Differencing\n",
        "\n",
        "dataGOOG = dataGOOG.diff(30).diff()\n",
        "\n",
        "sns.lineplot(data=dataGOOG, x=\"Date\", y=\"Close\")"
      ],
      "execution_count": 126,
      "outputs": [
        {
          "output_type": "execute_result",
          "data": {
            "text/plain": [
              "<matplotlib.axes._subplots.AxesSubplot at 0x7ff384e51d50>"
            ]
          },
          "metadata": {
            "tags": []
          },
          "execution_count": 126
        },
        {
          "output_type": "display_data",
          "data": {
            "image/png": "[encoded data removed]",
            "text/plain": [
              "<Figure size 842.4x595.44 with 1 Axes>"
            ]
          },
          "metadata": {
            "tags": []
          }
        }
      ]
    },
    {
      "cell_type": "code",
      "metadata": {
        "id": "PNvSLZ_mp3vW"
      },
      "source": [
        "dataGOOG.dropna(inplace=True)"
      ],
      "execution_count": 127,
      "outputs": []
    },
    {
      "cell_type": "code",
      "metadata": {
        "colab": {
          "base_uri": "https://localhost:8080/"
        },
        "id": "TcizxA7Qp67g",
        "outputId": "3fcdb3ea-b34a-48fb-8a51-4414e04950f6"
      },
      "source": [
        "print ('Results of Dickey-Fuller Test:')\n",
        "dftest = adfuller(dataGOOG['Close'])\n",
        "\n",
        "dfoutput = pd.Series(dftest[0:4], index=['Test Statistic','p-value','#Lags Used','Number of Observations Used'])\n",
        "for key, value in dftest[4].items():\n",
        "    dfoutput['Critical Value (%s)'%key] = value\n",
        "print(dfoutput)"
      ],
      "execution_count": 128,
      "outputs": [
        {
          "output_type": "stream",
          "text": [
            "Results of Dickey-Fuller Test:\n",
            "Test Statistic                -1.493950e+01\n",
            "p-value                        1.329132e-27\n",
            "#Lags Used                     2.300000e+01\n",
            "Number of Observations Used    1.239000e+03\n",
            "Critical Value (1%)           -3.435639e+00\n",
            "Critical Value (5%)           -2.863876e+00\n",
            "Critical Value (10%)          -2.568013e+00\n",
            "dtype: float64\n"
          ],
          "name": "stdout"
        }
      ]
    },
    {
      "cell_type": "markdown",
      "metadata": {
        "id": "TXiY6N-8p_ok"
      },
      "source": [
        "p-value = 0 <0.05 received"
      ]
    },
    {
      "cell_type": "code",
      "metadata": {
        "colab": {
          "base_uri": "https://localhost:8080/",
          "height": 516
        },
        "id": "M8oKTXjup8kA",
        "outputId": "9d8c4476-a738-4b9e-cdc3-9f553af4fae1"
      },
      "source": [
        "plt = plot_acf(dataGOOG, lags=50)\n",
        "plt.show()"
      ],
      "execution_count": 129,
      "outputs": [
        {
          "output_type": "display_data",
          "data": {
            "image/png": "[encoded data removed]",
            "text/plain": [
              "<Figure size 842.4x595.44 with 1 Axes>"
            ]
          },
          "metadata": {
            "tags": []
          }
        }
      ]
    },
    {
      "cell_type": "code",
      "metadata": {
        "colab": {
          "base_uri": "https://localhost:8080/",
          "height": 516
        },
        "id": "EezeAl6XqByX",
        "outputId": "dd9326a6-e69c-4c66-b253-51e11449b4ad"
      },
      "source": [
        "plt = plot_pacf(dataGOOG, lags=50)\n",
        "plt.show()"
      ],
      "execution_count": 130,
      "outputs": [
        {
          "output_type": "display_data",
          "data": {
            "image/png": "[encoded data removed]",
            "text/plain": [
              "<Figure size 842.4x595.44 with 1 Axes>"
            ]
          },
          "metadata": {
            "tags": []
          }
        }
      ]
    },
    {
      "cell_type": "markdown",
      "metadata": {
        "id": "bRRdCfknqFIM"
      },
      "source": [
        "## ARIMA"
      ]
    },
    {
      "cell_type": "code",
      "metadata": {
        "colab": {
          "base_uri": "https://localhost:8080/",
          "height": 514
        },
        "id": "M7idP2yNqDPT",
        "outputId": "dfcd553f-394d-4080-cb62-a29d49a47255"
      },
      "source": [
        "!pip install pmdarima\n",
        "import pmdarima as pm"
      ],
      "execution_count": 93,
      "outputs": [
        {
          "output_type": "stream",
          "text": [
            "Collecting pmdarima\n",
            "\u001b[?25l  Downloading https://files.pythonhosted.org/packages/f4/c2/2a94bce6bba1deac3c0b16dbb14f28de0b9035e3211919cae8448455aa65/pmdarima-1.8.2-cp37-cp37m-manylinux1_x86_64.whl (1.5MB)\n",
            "\u001b[K     |████████████████████████████████| 1.5MB 28.0MB/s \n",
            "\u001b[?25hCollecting statsmodels!=0.12.0,>=0.11\n",
            "\u001b[?25l  Downloading https://files.pythonhosted.org/packages/da/69/8eef30a6237c54f3c0b524140e2975f4b1eea3489b45eb3339574fc8acee/statsmodels-0.12.2-cp37-cp37m-manylinux1_x86_64.whl (9.5MB)\n",
            "\u001b[K     |████████████████████████████████| 9.5MB 15.8MB/s \n",
            "\u001b[?25hRequirement already satisfied: urllib3 in /usr/local/lib/python3.7/dist-packages (from pmdarima) (1.24.3)\n",
            "Requirement already satisfied: Cython!=0.29.18,>=0.29 in /usr/local/lib/python3.7/dist-packages (from pmdarima) (0.29.23)\n",
            "Requirement already satisfied: scikit-learn>=0.22 in /usr/local/lib/python3.7/dist-packages (from pmdarima) (0.22.2.post1)\n",
            "Requirement already satisfied: setuptools!=50.0.0,>=38.6.0 in /usr/local/lib/python3.7/dist-packages (from pmdarima) (57.0.0)\n",
            "Requirement already satisfied: pandas>=0.19 in /usr/local/lib/python3.7/dist-packages (from pmdarima) (1.1.5)\n",
            "Requirement already satisfied: scipy>=1.3.2 in /usr/local/lib/python3.7/dist-packages (from pmdarima) (1.4.1)\n",
            "Requirement already satisfied: joblib>=0.11 in /usr/local/lib/python3.7/dist-packages (from pmdarima) (1.0.1)\n",
            "Requirement already satisfied: numpy~=1.19.0 in /usr/local/lib/python3.7/dist-packages (from pmdarima) (1.19.5)\n",
            "Requirement already satisfied: patsy>=0.5 in /usr/local/lib/python3.7/dist-packages (from statsmodels!=0.12.0,>=0.11->pmdarima) (0.5.1)\n",
            "Requirement already satisfied: pytz>=2017.2 in /usr/local/lib/python3.7/dist-packages (from pandas>=0.19->pmdarima) (2018.9)\n",
            "Requirement already satisfied: python-dateutil>=2.7.3 in /usr/local/lib/python3.7/dist-packages (from pandas>=0.19->pmdarima) (2.8.1)\n",
            "Requirement already satisfied: six in /usr/local/lib/python3.7/dist-packages (from patsy>=0.5->statsmodels!=0.12.0,>=0.11->pmdarima) (1.15.0)\n",
            "Installing collected packages: statsmodels, pmdarima\n",
            "  Found existing installation: statsmodels 0.10.2\n",
            "    Uninstalling statsmodels-0.10.2:\n",
            "      Successfully uninstalled statsmodels-0.10.2\n",
            "Successfully installed pmdarima-1.8.2 statsmodels-0.12.2\n"
          ],
          "name": "stdout"
        },
        {
          "output_type": "display_data",
          "data": {
            "application/vnd.colab-display-data+json": {
              "pip_warning": {
                "packages": [
                  "statsmodels"
                ]
              }
            }
          },
          "metadata": {
            "tags": []
          }
        }
      ]
    },
    {
      "cell_type": "code",
      "metadata": {
        "colab": {
          "base_uri": "https://localhost:8080/"
        },
        "id": "aAOC81VuqHLe",
        "outputId": "f586b498-1e5f-4f20-fc70-6c2cd55b1df1"
      },
      "source": [
        "\n",
        "model = pm.auto_arima(dataGOOG['Close'], ## Original Time Series\n",
        "                      d=1, ## number of normal (non-seasonal) differencing\n",
        "                      D=1, ## number of seasonal differencing\n",
        "                      seasonal=True, \n",
        "                      m=30, ## daily data, so m = 30\n",
        "                      trend='c',\n",
        "                      start_p=0, \n",
        "                      start_q=0, \n",
        "                      test='adf', ## Augmented Dickey-Fuller test\n",
        "                      stepwise=True, ## Method of search for the best model parameters\n",
        "                      trace=True)"
      ],
      "execution_count": 131,
      "outputs": [
        {
          "output_type": "stream",
          "text": [
            "Performing stepwise search to minimize aic\n",
            " ARIMA(0,1,0)(1,1,1)[30]             : AIC=inf, Time=26.06 sec\n",
            " ARIMA(0,1,0)(0,1,0)[30]             : AIC=15444.227, Time=0.61 sec\n",
            " ARIMA(1,1,0)(1,1,0)[30]             : AIC=14015.242, Time=21.31 sec\n",
            " ARIMA(0,1,1)(0,1,1)[30]             : AIC=inf, Time=35.45 sec\n",
            " ARIMA(1,1,0)(0,1,0)[30]             : AIC=14948.154, Time=1.07 sec\n",
            " ARIMA(1,1,0)(2,1,0)[30]             : AIC=inf, Time=106.67 sec\n",
            " ARIMA(1,1,0)(1,1,1)[30]             : AIC=inf, Time=34.49 sec\n",
            " ARIMA(1,1,0)(0,1,1)[30]             : AIC=inf, Time=22.82 sec\n",
            " ARIMA(1,1,0)(2,1,1)[30]             : AIC=inf, Time=101.81 sec\n",
            " ARIMA(0,1,0)(1,1,0)[30]             : AIC=14595.638, Time=18.54 sec\n",
            " ARIMA(2,1,0)(1,1,0)[30]             : AIC=inf, Time=46.74 sec\n",
            " ARIMA(1,1,1)(1,1,0)[30]             : AIC=inf, Time=82.74 sec\n",
            " ARIMA(0,1,1)(1,1,0)[30]             : AIC=inf, Time=26.42 sec\n",
            " ARIMA(2,1,1)(1,1,0)[30]             : AIC=inf, Time=54.68 sec\n",
            " ARIMA(1,1,0)(1,1,0)[30] intercept   : AIC=14015.242, Time=21.15 sec\n",
            "\n",
            "Best model:  ARIMA(1,1,0)(1,1,0)[30] intercept\n",
            "Total fit time: 600.581 seconds\n"
          ],
          "name": "stdout"
        }
      ]
    },
    {
      "cell_type": "code",
      "metadata": {
        "colab": {
          "base_uri": "https://localhost:8080/",
          "height": 437
        },
        "id": "fEkO9fneqKks",
        "outputId": "caddb033-867e-4b1d-8c6e-c13125ac9e5f"
      },
      "source": [
        "model.summary()"
      ],
      "execution_count": 132,
      "outputs": [
        {
          "output_type": "execute_result",
          "data": {
            "text/html": [
              "<table class=\"simpletable\">\n",
              "<caption>Statespace Model Results</caption>\n",
              "<tr>\n",
              "  <th>Dep. Variable:</th>                  <td>y</td>               <th>  No. Observations:  </th>   <td>1263</td>   \n",
              "</tr>\n",
              "<tr>\n",
              "  <th>Model:</th>           <td>SARIMAX(1, 1, 0)x(1, 1, 0, 30)</td> <th>  Log Likelihood     </th> <td>-7003.621</td>\n",
              "</tr>\n",
              "<tr>\n",
              "  <th>Date:</th>                   <td>Sun, 04 Jul 2021</td>        <th>  AIC                </th> <td>14015.242</td>\n",
              "</tr>\n",
              "<tr>\n",
              "  <th>Time:</th>                       <td>03:36:23</td>            <th>  BIC                </th> <td>14035.707</td>\n",
              "</tr>\n",
              "<tr>\n",
              "  <th>Sample:</th>                         <td>0</td>               <th>  HQIC               </th> <td>14022.941</td>\n",
              "</tr>\n",
              "<tr>\n",
              "  <th></th>                             <td> - 1263</td>            <th>                     </th>     <td> </td>    \n",
              "</tr>\n",
              "<tr>\n",
              "  <th>Covariance Type:</th>               <td>opg</td>              <th>                     </th>     <td> </td>    \n",
              "</tr>\n",
              "</table>\n",
              "<table class=\"simpletable\">\n",
              "<tr>\n",
              "      <td></td>         <th>coef</th>     <th>std err</th>      <th>z</th>      <th>P>|z|</th>  <th>[0.025</th>    <th>0.975]</th>  \n",
              "</tr>\n",
              "<tr>\n",
              "  <th>intercept</th> <td>    0.1558</td> <td>    2.019</td> <td>    0.077</td> <td> 0.939</td> <td>   -3.802</td> <td>    4.114</td>\n",
              "</tr>\n",
              "<tr>\n",
              "  <th>ar.L1</th>     <td>   -0.6143</td> <td>    0.018</td> <td>  -34.998</td> <td> 0.000</td> <td>   -0.649</td> <td>   -0.580</td>\n",
              "</tr>\n",
              "<tr>\n",
              "  <th>ar.S.L30</th>  <td>   -0.7387</td> <td>    0.014</td> <td>  -52.622</td> <td> 0.000</td> <td>   -0.766</td> <td>   -0.711</td>\n",
              "</tr>\n",
              "<tr>\n",
              "  <th>sigma2</th>    <td> 4976.6547</td> <td>  137.378</td> <td>   36.226</td> <td> 0.000</td> <td> 4707.399</td> <td> 5245.910</td>\n",
              "</tr>\n",
              "</table>\n",
              "<table class=\"simpletable\">\n",
              "<tr>\n",
              "  <th>Ljung-Box (Q):</th>          <td>1235.09</td> <th>  Jarque-Bera (JB):  </th> <td>289.65</td>\n",
              "</tr>\n",
              "<tr>\n",
              "  <th>Prob(Q):</th>                 <td>0.00</td>   <th>  Prob(JB):          </th>  <td>0.00</td> \n",
              "</tr>\n",
              "<tr>\n",
              "  <th>Heteroskedasticity (H):</th>  <td>3.39</td>   <th>  Skew:              </th>  <td>0.03</td> \n",
              "</tr>\n",
              "<tr>\n",
              "  <th>Prob(H) (two-sided):</th>     <td>0.00</td>   <th>  Kurtosis:          </th>  <td>5.37</td> \n",
              "</tr>\n",
              "</table><br/><br/>Warnings:<br/>[1] Covariance matrix calculated using the outer product of gradients (complex-step)."
            ],
            "text/plain": [
              "<class 'statsmodels.iolib.summary.Summary'>\n",
              "\"\"\"\n",
              "                                 Statespace Model Results                                 \n",
              "==========================================================================================\n",
              "Dep. Variable:                                  y   No. Observations:                 1263\n",
              "Model:             SARIMAX(1, 1, 0)x(1, 1, 0, 30)   Log Likelihood               -7003.621\n",
              "Date:                            Sun, 04 Jul 2021   AIC                          14015.242\n",
              "Time:                                    03:36:23   BIC                          14035.707\n",
              "Sample:                                         0   HQIC                         14022.941\n",
              "                                           - 1263                                         \n",
              "Covariance Type:                              opg                                         \n",
              "==============================================================================\n",
              "                 coef    std err          z      P>|z|      [0.025      0.975]\n",
              "------------------------------------------------------------------------------\n",
              "intercept      0.1558      2.019      0.077      0.939      -3.802       4.114\n",
              "ar.L1         -0.6143      0.018    -34.998      0.000      -0.649      -0.580\n",
              "ar.S.L30      -0.7387      0.014    -52.622      0.000      -0.766      -0.711\n",
              "sigma2      4976.6547    137.378     36.226      0.000    4707.399    5245.910\n",
              "===================================================================================\n",
              "Ljung-Box (Q):                     1235.09   Jarque-Bera (JB):               289.65\n",
              "Prob(Q):                              0.00   Prob(JB):                         0.00\n",
              "Heteroskedasticity (H):               3.39   Skew:                             0.03\n",
              "Prob(H) (two-sided):                  0.00   Kurtosis:                         5.37\n",
              "===================================================================================\n",
              "\n",
              "Warnings:\n",
              "[1] Covariance matrix calculated using the outer product of gradients (complex-step).\n",
              "\"\"\""
            ]
          },
          "metadata": {
            "tags": []
          },
          "execution_count": 132
        }
      ]
    },
    {
      "cell_type": "markdown",
      "metadata": {
        "id": "X09nwi3fqQdH"
      },
      "source": [
        "### Build Model with optimal parameters\n",
        "\n",
        "Reference: https://www.statsmodels.org/dev/generated/statsmodels.tsa.statespace.sarimax.SARIMAX.html"
      ]
    },
    {
      "cell_type": "code",
      "metadata": {
        "colab": {
          "base_uri": "https://localhost:8080/",
          "height": 252
        },
        "id": "CKCagCn1jIeY",
        "outputId": "106beef8-921a-49bb-b487-6cd268dd316c"
      },
      "source": [
        "# reset data\n",
        "dataGOOG = yf.download('GOOG','2014-03-27','2019-07-02')\n",
        "dataGOOG.head()"
      ],
      "execution_count": 133,
      "outputs": [
        {
          "output_type": "stream",
          "text": [
            "\r[*********************100%***********************]  1 of 1 completed\n"
          ],
          "name": "stdout"
        },
        {
          "output_type": "execute_result",
          "data": {
            "text/html": [
              "<div>\n",
              "<style scoped>\n",
              "    .dataframe tbody tr th:only-of-type {\n",
              "        vertical-align: middle;\n",
              "    }\n",
              "\n",
              "    .dataframe tbody tr th {\n",
              "        vertical-align: top;\n",
              "    }\n",
              "\n",
              "    .dataframe thead th {\n",
              "        text-align: right;\n",
              "    }\n",
              "</style>\n",
              "<table border=\"1\" class=\"dataframe\">\n",
              "  <thead>\n",
              "    <tr style=\"text-align: right;\">\n",
              "      <th></th>\n",
              "      <th>Open</th>\n",
              "      <th>High</th>\n",
              "      <th>Low</th>\n",
              "      <th>Close</th>\n",
              "      <th>Adj Close</th>\n",
              "      <th>Volume</th>\n",
              "    </tr>\n",
              "    <tr>\n",
              "      <th>Date</th>\n",
              "      <th></th>\n",
              "      <th></th>\n",
              "      <th></th>\n",
              "      <th></th>\n",
              "      <th></th>\n",
              "      <th></th>\n",
              "    </tr>\n",
              "  </thead>\n",
              "  <tbody>\n",
              "    <tr>\n",
              "      <th>2014-03-27</th>\n",
              "      <td>566.444824</td>\n",
              "      <td>566.444824</td>\n",
              "      <td>551.406128</td>\n",
              "      <td>556.930969</td>\n",
              "      <td>556.930969</td>\n",
              "      <td>13136</td>\n",
              "    </tr>\n",
              "    <tr>\n",
              "      <th>2014-03-28</th>\n",
              "      <td>559.663452</td>\n",
              "      <td>564.879150</td>\n",
              "      <td>557.140381</td>\n",
              "      <td>558.456787</td>\n",
              "      <td>558.456787</td>\n",
              "      <td>41213</td>\n",
              "    </tr>\n",
              "    <tr>\n",
              "      <th>2014-03-31</th>\n",
              "      <td>565.337891</td>\n",
              "      <td>565.447571</td>\n",
              "      <td>555.405151</td>\n",
              "      <td>555.445007</td>\n",
              "      <td>555.445007</td>\n",
              "      <td>10830</td>\n",
              "    </tr>\n",
              "    <tr>\n",
              "      <th>2014-04-01</th>\n",
              "      <td>557.180237</td>\n",
              "      <td>566.893616</td>\n",
              "      <td>557.180237</td>\n",
              "      <td>565.607117</td>\n",
              "      <td>565.607117</td>\n",
              "      <td>7922</td>\n",
              "    </tr>\n",
              "    <tr>\n",
              "      <th>2014-04-02</th>\n",
              "      <td>598.347229</td>\n",
              "      <td>603.174011</td>\n",
              "      <td>560.650757</td>\n",
              "      <td>565.447571</td>\n",
              "      <td>565.447571</td>\n",
              "      <td>147103</td>\n",
              "    </tr>\n",
              "  </tbody>\n",
              "</table>\n",
              "</div>"
            ],
            "text/plain": [
              "                  Open        High         Low       Close   Adj Close  Volume\n",
              "Date                                                                          \n",
              "2014-03-27  566.444824  566.444824  551.406128  556.930969  556.930969   13136\n",
              "2014-03-28  559.663452  564.879150  557.140381  558.456787  558.456787   41213\n",
              "2014-03-31  565.337891  565.447571  555.405151  555.445007  555.445007   10830\n",
              "2014-04-01  557.180237  566.893616  557.180237  565.607117  565.607117    7922\n",
              "2014-04-02  598.347229  603.174011  560.650757  565.447571  565.447571  147103"
            ]
          },
          "metadata": {
            "tags": []
          },
          "execution_count": 133
        }
      ]
    },
    {
      "cell_type": "code",
      "metadata": {
        "colab": {
          "base_uri": "https://localhost:8080/",
          "height": 503
        },
        "id": "NJMKdgPwqOFr",
        "outputId": "edebf8e9-bdfd-4e6f-f22d-e38288aed115"
      },
      "source": [
        "# Divide into train and validation set\n",
        "divide = int(0.80*(len(dataGOOG)))\n",
        "train = dataGOOG[:divide]\n",
        "test = dataGOOG[divide:]\n",
        "\n",
        "# Plotting the data\n",
        "train['Close'].plot()\n",
        "test['Close'].plot()"
      ],
      "execution_count": 134,
      "outputs": [
        {
          "output_type": "execute_result",
          "data": {
            "text/plain": [
              "<matplotlib.axes._subplots.AxesSubplot at 0x7ff38343bd90>"
            ]
          },
          "metadata": {
            "tags": []
          },
          "execution_count": 134
        },
        {
          "output_type": "display_data",
          "data": {
            "image/png": "[encoded data removed]",
            "text/plain": [
              "<Figure size 842.4x595.44 with 1 Axes>"
            ]
          },
          "metadata": {
            "tags": []
          }
        }
      ]
    },
    {
      "cell_type": "code",
      "metadata": {
        "colab": {
          "base_uri": "https://localhost:8080/",
          "height": 472
        },
        "id": "q65m8E7pqS7f",
        "outputId": "e8d35ecd-f1c5-48cb-8368-e69d6ca5ad77"
      },
      "source": [
        "#Best model:  ARIMA(0,1,0)(1,1,0)[30] intercept\n",
        "#Best model:  ARIMA(1,1,0)(1,1,0)[30] intercept\n",
        "model = SARIMAX(train['Close'], \n",
        "                order=(1,1,0),\n",
        "                seasonal_order=(1,1,0,30))\n",
        "\n",
        "fitted_model = model.fit()\n",
        "fitted_model.summary()"
      ],
      "execution_count": 136,
      "outputs": [
        {
          "output_type": "stream",
          "text": [
            "/usr/local/lib/python3.7/dist-packages/statsmodels/tsa/base/tsa_model.py:219: ValueWarning: A date index has been provided, but it has no associated frequency information and so will be ignored when e.g. forecasting.\n",
            "  try:\n"
          ],
          "name": "stderr"
        },
        {
          "output_type": "execute_result",
          "data": {
            "text/html": [
              "<table class=\"simpletable\">\n",
              "<caption>Statespace Model Results</caption>\n",
              "<tr>\n",
              "  <th>Dep. Variable:</th>                <td>Close</td>             <th>  No. Observations:  </th>   <td>1060</td>   \n",
              "</tr>\n",
              "<tr>\n",
              "  <th>Model:</th>           <td>SARIMAX(1, 1, 0)x(1, 1, 0, 30)</td> <th>  Log Likelihood     </th> <td>-4109.321</td>\n",
              "</tr>\n",
              "<tr>\n",
              "  <th>Date:</th>                   <td>Sun, 04 Jul 2021</td>        <th>  AIC                </th> <td>8224.642</td> \n",
              "</tr>\n",
              "<tr>\n",
              "  <th>Time:</th>                       <td>03:36:53</td>            <th>  BIC                </th> <td>8239.451</td> \n",
              "</tr>\n",
              "<tr>\n",
              "  <th>Sample:</th>                         <td>0</td>               <th>  HQIC               </th> <td>8230.263</td> \n",
              "</tr>\n",
              "<tr>\n",
              "  <th></th>                             <td> - 1060</td>            <th>                     </th>     <td> </td>    \n",
              "</tr>\n",
              "<tr>\n",
              "  <th>Covariance Type:</th>               <td>opg</td>              <th>                     </th>     <td> </td>    \n",
              "</tr>\n",
              "</table>\n",
              "<table class=\"simpletable\">\n",
              "<tr>\n",
              "      <td></td>        <th>coef</th>     <th>std err</th>      <th>z</th>      <th>P>|z|</th>  <th>[0.025</th>    <th>0.975]</th>  \n",
              "</tr>\n",
              "<tr>\n",
              "  <th>ar.L1</th>    <td>    0.0252</td> <td>    0.023</td> <td>    1.116</td> <td> 0.264</td> <td>   -0.019</td> <td>    0.069</td>\n",
              "</tr>\n",
              "<tr>\n",
              "  <th>ar.S.L30</th> <td>   -0.5271</td> <td>    0.018</td> <td>  -29.426</td> <td> 0.000</td> <td>   -0.562</td> <td>   -0.492</td>\n",
              "</tr>\n",
              "<tr>\n",
              "  <th>sigma2</th>   <td>  170.6570</td> <td>    4.118</td> <td>   41.443</td> <td> 0.000</td> <td>  162.586</td> <td>  178.728</td>\n",
              "</tr>\n",
              "</table>\n",
              "<table class=\"simpletable\">\n",
              "<tr>\n",
              "  <th>Ljung-Box (Q):</th>          <td>135.64</td> <th>  Jarque-Bera (JB):  </th> <td>1051.11</td>\n",
              "</tr>\n",
              "<tr>\n",
              "  <th>Prob(Q):</th>                 <td>0.00</td>  <th>  Prob(JB):          </th>  <td>0.00</td>  \n",
              "</tr>\n",
              "<tr>\n",
              "  <th>Heteroskedasticity (H):</th>  <td>1.90</td>  <th>  Skew:              </th>  <td>0.31</td>  \n",
              "</tr>\n",
              "<tr>\n",
              "  <th>Prob(H) (two-sided):</th>     <td>0.00</td>  <th>  Kurtosis:          </th>  <td>7.91</td>  \n",
              "</tr>\n",
              "</table><br/><br/>Warnings:<br/>[1] Covariance matrix calculated using the outer product of gradients (complex-step)."
            ],
            "text/plain": [
              "<class 'statsmodels.iolib.summary.Summary'>\n",
              "\"\"\"\n",
              "                                 Statespace Model Results                                 \n",
              "==========================================================================================\n",
              "Dep. Variable:                              Close   No. Observations:                 1060\n",
              "Model:             SARIMAX(1, 1, 0)x(1, 1, 0, 30)   Log Likelihood               -4109.321\n",
              "Date:                            Sun, 04 Jul 2021   AIC                           8224.642\n",
              "Time:                                    03:36:53   BIC                           8239.451\n",
              "Sample:                                         0   HQIC                          8230.263\n",
              "                                           - 1060                                         \n",
              "Covariance Type:                              opg                                         \n",
              "==============================================================================\n",
              "                 coef    std err          z      P>|z|      [0.025      0.975]\n",
              "------------------------------------------------------------------------------\n",
              "ar.L1          0.0252      0.023      1.116      0.264      -0.019       0.069\n",
              "ar.S.L30      -0.5271      0.018    -29.426      0.000      -0.562      -0.492\n",
              "sigma2       170.6570      4.118     41.443      0.000     162.586     178.728\n",
              "===================================================================================\n",
              "Ljung-Box (Q):                      135.64   Jarque-Bera (JB):              1051.11\n",
              "Prob(Q):                              0.00   Prob(JB):                         0.00\n",
              "Heteroskedasticity (H):               1.90   Skew:                             0.31\n",
              "Prob(H) (two-sided):                  0.00   Kurtosis:                         7.91\n",
              "===================================================================================\n",
              "\n",
              "Warnings:\n",
              "[1] Covariance matrix calculated using the outer product of gradients (complex-step).\n",
              "\"\"\""
            ]
          },
          "metadata": {
            "tags": []
          },
          "execution_count": 136
        }
      ]
    },
    {
      "cell_type": "markdown",
      "metadata": {
        "id": "NHJ53QyaqW_5"
      },
      "source": [
        "### Visualize predictions\n",
        "\n",
        "Reference: https://www.statsmodels.org/stable/generated/statsmodels.tsa.statespace.sarimax.SARIMAXResults.get_prediction.html#statsmodels.tsa.statespace.sarimax.SARIMAXResults.get_prediction"
      ]
    },
    {
      "cell_type": "code",
      "metadata": {
        "colab": {
          "base_uri": "https://localhost:8080/"
        },
        "id": "Q_pZ6pPPqUp8",
        "outputId": "c5626ef6-1f65-4706-b069-8043f0c4b76f"
      },
      "source": [
        "# Forecasting\n",
        "forecast_object = fitted_model.get_forecast(steps=len(test))\n",
        "mean = forecast_object.predicted_mean\n",
        "conf_int = forecast_object.conf_int()\n",
        "#dates = mean.index"
      ],
      "execution_count": 137,
      "outputs": [
        {
          "output_type": "stream",
          "text": [
            "/usr/local/lib/python3.7/dist-packages/statsmodels/tsa/base/tsa_model.py:576: ValueWarning: No supported index is available. Prediction results will be given with an integer index beginning at `start`.\n",
            "  # Issue warnings for unsupported indexes\n"
          ],
          "name": "stderr"
        }
      ]
    },
    {
      "cell_type": "code",
      "metadata": {
        "colab": {
          "base_uri": "https://localhost:8080/",
          "height": 449
        },
        "id": "IMy5MYmWqaIf",
        "outputId": "eaf23426-944d-40a1-e29d-726be147f3d4"
      },
      "source": [
        "dff_clone = dataGOOG.copy()\n",
        "dff_clone[\"date\"] = dataGOOG.index\n",
        "dff_clone"
      ],
      "execution_count": 138,
      "outputs": [
        {
          "output_type": "execute_result",
          "data": {
            "text/html": [
              "<div>\n",
              "<style scoped>\n",
              "    .dataframe tbody tr th:only-of-type {\n",
              "        vertical-align: middle;\n",
              "    }\n",
              "\n",
              "    .dataframe tbody tr th {\n",
              "        vertical-align: top;\n",
              "    }\n",
              "\n",
              "    .dataframe thead th {\n",
              "        text-align: right;\n",
              "    }\n",
              "</style>\n",
              "<table border=\"1\" class=\"dataframe\">\n",
              "  <thead>\n",
              "    <tr style=\"text-align: right;\">\n",
              "      <th></th>\n",
              "      <th>Open</th>\n",
              "      <th>High</th>\n",
              "      <th>Low</th>\n",
              "      <th>Close</th>\n",
              "      <th>Adj Close</th>\n",
              "      <th>Volume</th>\n",
              "      <th>date</th>\n",
              "    </tr>\n",
              "    <tr>\n",
              "      <th>Date</th>\n",
              "      <th></th>\n",
              "      <th></th>\n",
              "      <th></th>\n",
              "      <th></th>\n",
              "      <th></th>\n",
              "      <th></th>\n",
              "      <th></th>\n",
              "    </tr>\n",
              "  </thead>\n",
              "  <tbody>\n",
              "    <tr>\n",
              "      <th>2014-03-27</th>\n",
              "      <td>566.444824</td>\n",
              "      <td>566.444824</td>\n",
              "      <td>551.406128</td>\n",
              "      <td>556.930969</td>\n",
              "      <td>556.930969</td>\n",
              "      <td>13136</td>\n",
              "      <td>2014-03-27</td>\n",
              "    </tr>\n",
              "    <tr>\n",
              "      <th>2014-03-28</th>\n",
              "      <td>559.663452</td>\n",
              "      <td>564.879150</td>\n",
              "      <td>557.140381</td>\n",
              "      <td>558.456787</td>\n",
              "      <td>558.456787</td>\n",
              "      <td>41213</td>\n",
              "      <td>2014-03-28</td>\n",
              "    </tr>\n",
              "    <tr>\n",
              "      <th>2014-03-31</th>\n",
              "      <td>565.337891</td>\n",
              "      <td>565.447571</td>\n",
              "      <td>555.405151</td>\n",
              "      <td>555.445007</td>\n",
              "      <td>555.445007</td>\n",
              "      <td>10830</td>\n",
              "      <td>2014-03-31</td>\n",
              "    </tr>\n",
              "    <tr>\n",
              "      <th>2014-04-01</th>\n",
              "      <td>557.180237</td>\n",
              "      <td>566.893616</td>\n",
              "      <td>557.180237</td>\n",
              "      <td>565.607117</td>\n",
              "      <td>565.607117</td>\n",
              "      <td>7922</td>\n",
              "      <td>2014-04-01</td>\n",
              "    </tr>\n",
              "    <tr>\n",
              "      <th>2014-04-02</th>\n",
              "      <td>598.347229</td>\n",
              "      <td>603.174011</td>\n",
              "      <td>560.650757</td>\n",
              "      <td>565.447571</td>\n",
              "      <td>565.447571</td>\n",
              "      <td>147103</td>\n",
              "      <td>2014-04-02</td>\n",
              "    </tr>\n",
              "    <tr>\n",
              "      <th>...</th>\n",
              "      <td>...</td>\n",
              "      <td>...</td>\n",
              "      <td>...</td>\n",
              "      <td>...</td>\n",
              "      <td>...</td>\n",
              "      <td>...</td>\n",
              "      <td>...</td>\n",
              "    </tr>\n",
              "    <tr>\n",
              "      <th>2019-06-25</th>\n",
              "      <td>1112.660034</td>\n",
              "      <td>1114.349976</td>\n",
              "      <td>1083.800049</td>\n",
              "      <td>1086.349976</td>\n",
              "      <td>1086.349976</td>\n",
              "      <td>1546900</td>\n",
              "      <td>2019-06-25</td>\n",
              "    </tr>\n",
              "    <tr>\n",
              "      <th>2019-06-26</th>\n",
              "      <td>1086.500000</td>\n",
              "      <td>1092.969971</td>\n",
              "      <td>1072.239990</td>\n",
              "      <td>1079.800049</td>\n",
              "      <td>1079.800049</td>\n",
              "      <td>1810900</td>\n",
              "      <td>2019-06-26</td>\n",
              "    </tr>\n",
              "    <tr>\n",
              "      <th>2019-06-27</th>\n",
              "      <td>1084.000000</td>\n",
              "      <td>1087.099976</td>\n",
              "      <td>1075.290039</td>\n",
              "      <td>1076.010010</td>\n",
              "      <td>1076.010010</td>\n",
              "      <td>1004300</td>\n",
              "      <td>2019-06-27</td>\n",
              "    </tr>\n",
              "    <tr>\n",
              "      <th>2019-06-28</th>\n",
              "      <td>1076.390015</td>\n",
              "      <td>1081.000000</td>\n",
              "      <td>1073.369995</td>\n",
              "      <td>1080.910034</td>\n",
              "      <td>1080.910034</td>\n",
              "      <td>1693200</td>\n",
              "      <td>2019-06-28</td>\n",
              "    </tr>\n",
              "    <tr>\n",
              "      <th>2019-07-01</th>\n",
              "      <td>1098.000000</td>\n",
              "      <td>1107.579956</td>\n",
              "      <td>1093.703003</td>\n",
              "      <td>1097.949951</td>\n",
              "      <td>1097.949951</td>\n",
              "      <td>1436300</td>\n",
              "      <td>2019-07-01</td>\n",
              "    </tr>\n",
              "  </tbody>\n",
              "</table>\n",
              "<p>1325 rows × 7 columns</p>\n",
              "</div>"
            ],
            "text/plain": [
              "                   Open         High  ...   Volume       date\n",
              "Date                                  ...                    \n",
              "2014-03-27   566.444824   566.444824  ...    13136 2014-03-27\n",
              "2014-03-28   559.663452   564.879150  ...    41213 2014-03-28\n",
              "2014-03-31   565.337891   565.447571  ...    10830 2014-03-31\n",
              "2014-04-01   557.180237   566.893616  ...     7922 2014-04-01\n",
              "2014-04-02   598.347229   603.174011  ...   147103 2014-04-02\n",
              "...                 ...          ...  ...      ...        ...\n",
              "2019-06-25  1112.660034  1114.349976  ...  1546900 2019-06-25\n",
              "2019-06-26  1086.500000  1092.969971  ...  1810900 2019-06-26\n",
              "2019-06-27  1084.000000  1087.099976  ...  1004300 2019-06-27\n",
              "2019-06-28  1076.390015  1081.000000  ...  1693200 2019-06-28\n",
              "2019-07-01  1098.000000  1107.579956  ...  1436300 2019-07-01\n",
              "\n",
              "[1325 rows x 7 columns]"
            ]
          },
          "metadata": {
            "tags": []
          },
          "execution_count": 138
        }
      ]
    },
    {
      "cell_type": "code",
      "metadata": {
        "colab": {
          "base_uri": "https://localhost:8080/",
          "height": 449
        },
        "id": "OxPzf3qOqcSl",
        "outputId": "360743a4-7f0f-4f6e-84bb-61eeb261e6b2"
      },
      "source": [
        "test_clone = test.copy()\n",
        "test_clone[\"date\"] = test.index\n",
        "test_clone"
      ],
      "execution_count": 139,
      "outputs": [
        {
          "output_type": "execute_result",
          "data": {
            "text/html": [
              "<div>\n",
              "<style scoped>\n",
              "    .dataframe tbody tr th:only-of-type {\n",
              "        vertical-align: middle;\n",
              "    }\n",
              "\n",
              "    .dataframe tbody tr th {\n",
              "        vertical-align: top;\n",
              "    }\n",
              "\n",
              "    .dataframe thead th {\n",
              "        text-align: right;\n",
              "    }\n",
              "</style>\n",
              "<table border=\"1\" class=\"dataframe\">\n",
              "  <thead>\n",
              "    <tr style=\"text-align: right;\">\n",
              "      <th></th>\n",
              "      <th>Open</th>\n",
              "      <th>High</th>\n",
              "      <th>Low</th>\n",
              "      <th>Close</th>\n",
              "      <th>Adj Close</th>\n",
              "      <th>Volume</th>\n",
              "      <th>date</th>\n",
              "    </tr>\n",
              "    <tr>\n",
              "      <th>Date</th>\n",
              "      <th></th>\n",
              "      <th></th>\n",
              "      <th></th>\n",
              "      <th></th>\n",
              "      <th></th>\n",
              "      <th></th>\n",
              "      <th></th>\n",
              "    </tr>\n",
              "  </thead>\n",
              "  <tbody>\n",
              "    <tr>\n",
              "      <th>2018-06-12</th>\n",
              "      <td>1131.069946</td>\n",
              "      <td>1139.790039</td>\n",
              "      <td>1130.734985</td>\n",
              "      <td>1139.319946</td>\n",
              "      <td>1139.319946</td>\n",
              "      <td>912000</td>\n",
              "      <td>2018-06-12</td>\n",
              "    </tr>\n",
              "    <tr>\n",
              "      <th>2018-06-13</th>\n",
              "      <td>1141.119995</td>\n",
              "      <td>1146.500000</td>\n",
              "      <td>1133.380005</td>\n",
              "      <td>1134.790039</td>\n",
              "      <td>1134.790039</td>\n",
              "      <td>1506400</td>\n",
              "      <td>2018-06-13</td>\n",
              "    </tr>\n",
              "    <tr>\n",
              "      <th>2018-06-14</th>\n",
              "      <td>1143.849976</td>\n",
              "      <td>1155.469971</td>\n",
              "      <td>1140.640015</td>\n",
              "      <td>1152.119995</td>\n",
              "      <td>1152.119995</td>\n",
              "      <td>1343400</td>\n",
              "      <td>2018-06-14</td>\n",
              "    </tr>\n",
              "    <tr>\n",
              "      <th>2018-06-15</th>\n",
              "      <td>1148.859985</td>\n",
              "      <td>1153.420044</td>\n",
              "      <td>1143.484985</td>\n",
              "      <td>1152.260010</td>\n",
              "      <td>1152.260010</td>\n",
              "      <td>2122500</td>\n",
              "      <td>2018-06-15</td>\n",
              "    </tr>\n",
              "    <tr>\n",
              "      <th>2018-06-18</th>\n",
              "      <td>1143.650024</td>\n",
              "      <td>1174.310059</td>\n",
              "      <td>1143.589966</td>\n",
              "      <td>1173.459961</td>\n",
              "      <td>1173.459961</td>\n",
              "      <td>1413700</td>\n",
              "      <td>2018-06-18</td>\n",
              "    </tr>\n",
              "    <tr>\n",
              "      <th>...</th>\n",
              "      <td>...</td>\n",
              "      <td>...</td>\n",
              "      <td>...</td>\n",
              "      <td>...</td>\n",
              "      <td>...</td>\n",
              "      <td>...</td>\n",
              "      <td>...</td>\n",
              "    </tr>\n",
              "    <tr>\n",
              "      <th>2019-06-25</th>\n",
              "      <td>1112.660034</td>\n",
              "      <td>1114.349976</td>\n",
              "      <td>1083.800049</td>\n",
              "      <td>1086.349976</td>\n",
              "      <td>1086.349976</td>\n",
              "      <td>1546900</td>\n",
              "      <td>2019-06-25</td>\n",
              "    </tr>\n",
              "    <tr>\n",
              "      <th>2019-06-26</th>\n",
              "      <td>1086.500000</td>\n",
              "      <td>1092.969971</td>\n",
              "      <td>1072.239990</td>\n",
              "      <td>1079.800049</td>\n",
              "      <td>1079.800049</td>\n",
              "      <td>1810900</td>\n",
              "      <td>2019-06-26</td>\n",
              "    </tr>\n",
              "    <tr>\n",
              "      <th>2019-06-27</th>\n",
              "      <td>1084.000000</td>\n",
              "      <td>1087.099976</td>\n",
              "      <td>1075.290039</td>\n",
              "      <td>1076.010010</td>\n",
              "      <td>1076.010010</td>\n",
              "      <td>1004300</td>\n",
              "      <td>2019-06-27</td>\n",
              "    </tr>\n",
              "    <tr>\n",
              "      <th>2019-06-28</th>\n",
              "      <td>1076.390015</td>\n",
              "      <td>1081.000000</td>\n",
              "      <td>1073.369995</td>\n",
              "      <td>1080.910034</td>\n",
              "      <td>1080.910034</td>\n",
              "      <td>1693200</td>\n",
              "      <td>2019-06-28</td>\n",
              "    </tr>\n",
              "    <tr>\n",
              "      <th>2019-07-01</th>\n",
              "      <td>1098.000000</td>\n",
              "      <td>1107.579956</td>\n",
              "      <td>1093.703003</td>\n",
              "      <td>1097.949951</td>\n",
              "      <td>1097.949951</td>\n",
              "      <td>1436300</td>\n",
              "      <td>2019-07-01</td>\n",
              "    </tr>\n",
              "  </tbody>\n",
              "</table>\n",
              "<p>265 rows × 7 columns</p>\n",
              "</div>"
            ],
            "text/plain": [
              "                   Open         High  ...   Volume       date\n",
              "Date                                  ...                    \n",
              "2018-06-12  1131.069946  1139.790039  ...   912000 2018-06-12\n",
              "2018-06-13  1141.119995  1146.500000  ...  1506400 2018-06-13\n",
              "2018-06-14  1143.849976  1155.469971  ...  1343400 2018-06-14\n",
              "2018-06-15  1148.859985  1153.420044  ...  2122500 2018-06-15\n",
              "2018-06-18  1143.650024  1174.310059  ...  1413700 2018-06-18\n",
              "...                 ...          ...  ...      ...        ...\n",
              "2019-06-25  1112.660034  1114.349976  ...  1546900 2019-06-25\n",
              "2019-06-26  1086.500000  1092.969971  ...  1810900 2019-06-26\n",
              "2019-06-27  1084.000000  1087.099976  ...  1004300 2019-06-27\n",
              "2019-06-28  1076.390015  1081.000000  ...  1693200 2019-06-28\n",
              "2019-07-01  1098.000000  1107.579956  ...  1436300 2019-07-01\n",
              "\n",
              "[265 rows x 7 columns]"
            ]
          },
          "metadata": {
            "tags": []
          },
          "execution_count": 139
        }
      ]
    },
    {
      "cell_type": "code",
      "metadata": {
        "colab": {
          "base_uri": "https://localhost:8080/",
          "height": 485
        },
        "id": "e6x6Sp9AqfNl",
        "outputId": "d9ccdf1d-8ffe-47b8-cd93-c41e1f93a423"
      },
      "source": [
        "import matplotlib.cbook as cbook\n",
        "import matplotlib.dates as mdates\n",
        "import numpy as np\n",
        "import matplotlib.pyplot as plt\n",
        "\n",
        "plt.figure(figsize=(16,8))\n",
        "# Plot actual values\n",
        "#df_thir = df_thir.index.to\n",
        "#df_thir.index = pd.to_datetime(df_thir.index)\n",
        "plt.plot(dff_clone.date, dff_clone.Close, label='real')\n",
        "\n",
        "# Plot the prediction means as line\n",
        "plt.plot(test_clone.date, mean, label='predicted')\n",
        "\n",
        "# Shade between the confidence intervals\n",
        "plt.fill_between(test_clone.date, conf_int.iloc[:,0], conf_int.iloc[:,1],\n",
        "alpha=0.01)\n",
        "\n",
        "# Plot legend and show figure\n",
        "plt.legend()\n",
        "plt.savefig('predtest')\n",
        "plt.show()"
      ],
      "execution_count": 140,
      "outputs": [
        {
          "output_type": "display_data",
          "data": {
            "image/png": "[encoded data removed]",
            "text/plain": [
              "<Figure size 1152x576 with 1 Axes>"
            ]
          },
          "metadata": {
            "tags": []
          }
        }
      ]
    },
    {
      "cell_type": "markdown",
      "metadata": {
        "id": "R5fOqJ_1qjg-"
      },
      "source": [
        "### Get Predictions & Calculate Accuracy\n",
        "\n",
        "Reference: https://www.statsmodels.org/stable/generated/statsmodels.tsa.statespace.sarimax.SARIMAXResults.predict.html"
      ]
    },
    {
      "cell_type": "code",
      "metadata": {
        "colab": {
          "base_uri": "https://localhost:8080/"
        },
        "id": "bq2oA2gCqhjz",
        "outputId": "2602dd37-db58-4c97-df9f-1d05c0daaa6c"
      },
      "source": [
        "#Best model:  ARIMA(1,1,0)(1,1,0)[30] intercept\n",
        "start=len(train)\n",
        "end=len(train)+len(test)-1\n",
        "\n",
        "predictions = fitted_model.predict(start=start, end=end, dynamic=False, typ='levels').rename('SARIMA(1,1,0)(1,1,0,30) Predictions')\n",
        "# Fitting model \n",
        "# Best model:  ARIMA(0,1,0)(2,1,0)[12]  intercept"
      ],
      "execution_count": 146,
      "outputs": [
        {
          "output_type": "stream",
          "text": [
            "/usr/local/lib/python3.7/dist-packages/statsmodels/tsa/base/tsa_model.py:576: ValueWarning: No supported index is available. Prediction results will be given with an integer index beginning at `start`.\n",
            "  # Issue warnings for unsupported indexes\n"
          ],
          "name": "stderr"
        }
      ]
    },
    {
      "cell_type": "code",
      "metadata": {
        "colab": {
          "base_uri": "https://localhost:8080/"
        },
        "id": "CcGQsiKGqlRG",
        "outputId": "05b4e36d-7073-4a7d-9bdf-b753428d0ede"
      },
      "source": [
        "print(dataGOOG.iloc[start])\n",
        "print(dataGOOG.iloc[end])"
      ],
      "execution_count": 147,
      "outputs": [
        {
          "output_type": "stream",
          "text": [
            "Open           1131.069946\n",
            "High           1139.790039\n",
            "Low            1130.734985\n",
            "Close          1139.319946\n",
            "Adj Close      1139.319946\n",
            "Volume       912000.000000\n",
            "Name: 2018-06-12 00:00:00, dtype: float64\n",
            "Open         1.098000e+03\n",
            "High         1.107580e+03\n",
            "Low          1.093703e+03\n",
            "Close        1.097950e+03\n",
            "Adj Close    1.097950e+03\n",
            "Volume       1.436300e+06\n",
            "Name: 2019-07-01 00:00:00, dtype: float64\n"
          ],
          "name": "stdout"
        }
      ]
    },
    {
      "cell_type": "code",
      "metadata": {
        "colab": {
          "base_uri": "https://localhost:8080/",
          "height": 449
        },
        "id": "903Ajy6Rqm48",
        "outputId": "5a1c65f6-1f31-4b2d-e509-db56b10222ee"
      },
      "source": [
        "predictions_clone = test.copy()\n",
        "predictions_clone['Close'] = 0\n",
        "predictions_clone = predictions_clone.add(pd.Series(predictions.values, index= test_clone.date ),\n",
        "       axis='index')\n",
        "predictions_clone"
      ],
      "execution_count": 148,
      "outputs": [
        {
          "output_type": "execute_result",
          "data": {
            "text/html": [
              "<div>\n",
              "<style scoped>\n",
              "    .dataframe tbody tr th:only-of-type {\n",
              "        vertical-align: middle;\n",
              "    }\n",
              "\n",
              "    .dataframe tbody tr th {\n",
              "        vertical-align: top;\n",
              "    }\n",
              "\n",
              "    .dataframe thead th {\n",
              "        text-align: right;\n",
              "    }\n",
              "</style>\n",
              "<table border=\"1\" class=\"dataframe\">\n",
              "  <thead>\n",
              "    <tr style=\"text-align: right;\">\n",
              "      <th></th>\n",
              "      <th>Open</th>\n",
              "      <th>High</th>\n",
              "      <th>Low</th>\n",
              "      <th>Close</th>\n",
              "      <th>Adj Close</th>\n",
              "      <th>Volume</th>\n",
              "    </tr>\n",
              "    <tr>\n",
              "      <th>Date</th>\n",
              "      <th></th>\n",
              "      <th></th>\n",
              "      <th></th>\n",
              "      <th></th>\n",
              "      <th></th>\n",
              "      <th></th>\n",
              "    </tr>\n",
              "  </thead>\n",
              "  <tbody>\n",
              "    <tr>\n",
              "      <th>2018-06-12</th>\n",
              "      <td>2248.091614</td>\n",
              "      <td>2256.811707</td>\n",
              "      <td>2247.756654</td>\n",
              "      <td>1117.021668</td>\n",
              "      <td>2256.341614</td>\n",
              "      <td>9.131170e+05</td>\n",
              "    </tr>\n",
              "    <tr>\n",
              "      <th>2018-06-13</th>\n",
              "      <td>2248.669429</td>\n",
              "      <td>2254.049434</td>\n",
              "      <td>2240.929439</td>\n",
              "      <td>1107.549434</td>\n",
              "      <td>2242.339473</td>\n",
              "      <td>1.507508e+06</td>\n",
              "    </tr>\n",
              "    <tr>\n",
              "      <th>2018-06-14</th>\n",
              "      <td>2244.173098</td>\n",
              "      <td>2255.793093</td>\n",
              "      <td>2240.963137</td>\n",
              "      <td>1100.323122</td>\n",
              "      <td>2252.443117</td>\n",
              "      <td>1.344500e+06</td>\n",
              "    </tr>\n",
              "    <tr>\n",
              "      <th>2018-06-15</th>\n",
              "      <td>2245.270763</td>\n",
              "      <td>2249.830821</td>\n",
              "      <td>2239.895763</td>\n",
              "      <td>1096.410777</td>\n",
              "      <td>2248.670787</td>\n",
              "      <td>2.123596e+06</td>\n",
              "    </tr>\n",
              "    <tr>\n",
              "      <th>2018-06-18</th>\n",
              "      <td>2229.607699</td>\n",
              "      <td>2260.267733</td>\n",
              "      <td>2229.547640</td>\n",
              "      <td>1085.957674</td>\n",
              "      <td>2259.417635</td>\n",
              "      <td>1.414786e+06</td>\n",
              "    </tr>\n",
              "    <tr>\n",
              "      <th>...</th>\n",
              "      <td>...</td>\n",
              "      <td>...</td>\n",
              "      <td>...</td>\n",
              "      <td>...</td>\n",
              "      <td>...</td>\n",
              "      <td>...</td>\n",
              "    </tr>\n",
              "    <tr>\n",
              "      <th>2019-06-25</th>\n",
              "      <td>2393.460266</td>\n",
              "      <td>2395.150207</td>\n",
              "      <td>2364.600280</td>\n",
              "      <td>1280.800231</td>\n",
              "      <td>2367.150207</td>\n",
              "      <td>1.548181e+06</td>\n",
              "    </tr>\n",
              "    <tr>\n",
              "      <th>2019-06-26</th>\n",
              "      <td>2384.717952</td>\n",
              "      <td>2391.187922</td>\n",
              "      <td>2370.457942</td>\n",
              "      <td>1298.217952</td>\n",
              "      <td>2378.018000</td>\n",
              "      <td>1.812198e+06</td>\n",
              "    </tr>\n",
              "    <tr>\n",
              "      <th>2019-06-27</th>\n",
              "      <td>2392.735474</td>\n",
              "      <td>2395.835450</td>\n",
              "      <td>2384.025513</td>\n",
              "      <td>1308.735474</td>\n",
              "      <td>2384.745484</td>\n",
              "      <td>1.005609e+06</td>\n",
              "    </tr>\n",
              "    <tr>\n",
              "      <th>2019-06-28</th>\n",
              "      <td>2413.094660</td>\n",
              "      <td>2417.704646</td>\n",
              "      <td>2410.074641</td>\n",
              "      <td>1336.704646</td>\n",
              "      <td>2417.614680</td>\n",
              "      <td>1.694537e+06</td>\n",
              "    </tr>\n",
              "    <tr>\n",
              "      <th>2019-07-01</th>\n",
              "      <td>2442.538350</td>\n",
              "      <td>2452.118306</td>\n",
              "      <td>2438.241353</td>\n",
              "      <td>1344.538350</td>\n",
              "      <td>2442.488301</td>\n",
              "      <td>1.437645e+06</td>\n",
              "    </tr>\n",
              "  </tbody>\n",
              "</table>\n",
              "<p>265 rows × 6 columns</p>\n",
              "</div>"
            ],
            "text/plain": [
              "                   Open         High  ...    Adj Close        Volume\n",
              "Date                                  ...                           \n",
              "2018-06-12  2248.091614  2256.811707  ...  2256.341614  9.131170e+05\n",
              "2018-06-13  2248.669429  2254.049434  ...  2242.339473  1.507508e+06\n",
              "2018-06-14  2244.173098  2255.793093  ...  2252.443117  1.344500e+06\n",
              "2018-06-15  2245.270763  2249.830821  ...  2248.670787  2.123596e+06\n",
              "2018-06-18  2229.607699  2260.267733  ...  2259.417635  1.414786e+06\n",
              "...                 ...          ...  ...          ...           ...\n",
              "2019-06-25  2393.460266  2395.150207  ...  2367.150207  1.548181e+06\n",
              "2019-06-26  2384.717952  2391.187922  ...  2378.018000  1.812198e+06\n",
              "2019-06-27  2392.735474  2395.835450  ...  2384.745484  1.005609e+06\n",
              "2019-06-28  2413.094660  2417.704646  ...  2417.614680  1.694537e+06\n",
              "2019-07-01  2442.538350  2452.118306  ...  2442.488301  1.437645e+06\n",
              "\n",
              "[265 rows x 6 columns]"
            ]
          },
          "metadata": {
            "tags": []
          },
          "execution_count": 148
        }
      ]
    },
    {
      "cell_type": "code",
      "metadata": {
        "colab": {
          "base_uri": "https://localhost:8080/",
          "height": 80
        },
        "id": "OsPh4ooWqoR_",
        "outputId": "11d7eb55-a621-4850-a354-411017794b5c"
      },
      "source": [
        "# Calculate Accuracy metrics\n",
        "evaluation_results = pd.DataFrame({'r2_score': r2_score(test['Close'], predictions)}, index=[0])\n",
        "evaluation_results['mean_absolute_error'] = mean_absolute_error(test['Close'], predictions)\n",
        "evaluation_results['mean_squared_error'] = mean_squared_error(test['Close'], predictions)\n",
        "#test.sub(pd.Series(predictions.values, index= test_clone.date ), axis='index')\n",
        "evaluation_results['mean_absolute_percentage_error'] = np.mean(np.abs(predictions_clone['Close'] - test['Close'])/np.abs(test['Close']))*100 \n",
        "#valuation_results['mean_absolute_percentage_error'] = np.mean(np.abs(predictions.values - test['Close'])/np.abs(test['Close']))*100 \n",
        "optimal_accuracy = evaluation_results.copy(deep=True)\n",
        "optimal_accuracy  "
      ],
      "execution_count": 149,
      "outputs": [
        {
          "output_type": "execute_result",
          "data": {
            "text/html": [
              "<div>\n",
              "<style scoped>\n",
              "    .dataframe tbody tr th:only-of-type {\n",
              "        vertical-align: middle;\n",
              "    }\n",
              "\n",
              "    .dataframe tbody tr th {\n",
              "        vertical-align: top;\n",
              "    }\n",
              "\n",
              "    .dataframe thead th {\n",
              "        text-align: right;\n",
              "    }\n",
              "</style>\n",
              "<table border=\"1\" class=\"dataframe\">\n",
              "  <thead>\n",
              "    <tr style=\"text-align: right;\">\n",
              "      <th></th>\n",
              "      <th>r2_score</th>\n",
              "      <th>mean_absolute_error</th>\n",
              "      <th>mean_squared_error</th>\n",
              "      <th>mean_absolute_percentage_error</th>\n",
              "    </tr>\n",
              "  </thead>\n",
              "  <tbody>\n",
              "    <tr>\n",
              "      <th>0</th>\n",
              "      <td>-2.075474</td>\n",
              "      <td>102.200292</td>\n",
              "      <td>13664.745942</td>\n",
              "      <td>9.206664</td>\n",
              "    </tr>\n",
              "  </tbody>\n",
              "</table>\n",
              "</div>"
            ],
            "text/plain": [
              "   r2_score  ...  mean_absolute_percentage_error\n",
              "0 -2.075474  ...                        9.206664\n",
              "\n",
              "[1 rows x 4 columns]"
            ]
          },
          "metadata": {
            "tags": []
          },
          "execution_count": 149
        }
      ]
    },
    {
      "cell_type": "markdown",
      "metadata": {
        "id": "wX0NOZ7eq4g0"
      },
      "source": [
        "# PREDICTION USING RANDOM FORCAST\n"
      ]
    },
    {
      "cell_type": "code",
      "metadata": {
        "colab": {
          "base_uri": "https://localhost:8080/",
          "height": 252
        },
        "id": "tgXWj7letM84",
        "outputId": "a509ae7f-c998-4b6b-fbfd-5b18fb52634e"
      },
      "source": [
        "#!pip install yfinance\n",
        "import yfinance as yf\n",
        "df_EMA = yf.download('GOOG','2014-03-27','2021-07-02')\n",
        "df_EMA.head()"
      ],
      "execution_count": 52,
      "outputs": [
        {
          "output_type": "stream",
          "text": [
            "\r[*********************100%***********************]  1 of 1 completed\n"
          ],
          "name": "stdout"
        },
        {
          "output_type": "execute_result",
          "data": {
            "text/html": [
              "<div>\n",
              "<style scoped>\n",
              "    .dataframe tbody tr th:only-of-type {\n",
              "        vertical-align: middle;\n",
              "    }\n",
              "\n",
              "    .dataframe tbody tr th {\n",
              "        vertical-align: top;\n",
              "    }\n",
              "\n",
              "    .dataframe thead th {\n",
              "        text-align: right;\n",
              "    }\n",
              "</style>\n",
              "<table border=\"1\" class=\"dataframe\">\n",
              "  <thead>\n",
              "    <tr style=\"text-align: right;\">\n",
              "      <th></th>\n",
              "      <th>Open</th>\n",
              "      <th>High</th>\n",
              "      <th>Low</th>\n",
              "      <th>Close</th>\n",
              "      <th>Adj Close</th>\n",
              "      <th>Volume</th>\n",
              "    </tr>\n",
              "    <tr>\n",
              "      <th>Date</th>\n",
              "      <th></th>\n",
              "      <th></th>\n",
              "      <th></th>\n",
              "      <th></th>\n",
              "      <th></th>\n",
              "      <th></th>\n",
              "    </tr>\n",
              "  </thead>\n",
              "  <tbody>\n",
              "    <tr>\n",
              "      <th>2014-03-27</th>\n",
              "      <td>566.444824</td>\n",
              "      <td>566.444824</td>\n",
              "      <td>551.406128</td>\n",
              "      <td>556.930969</td>\n",
              "      <td>556.930969</td>\n",
              "      <td>13136</td>\n",
              "    </tr>\n",
              "    <tr>\n",
              "      <th>2014-03-28</th>\n",
              "      <td>559.663452</td>\n",
              "      <td>564.879150</td>\n",
              "      <td>557.140381</td>\n",
              "      <td>558.456787</td>\n",
              "      <td>558.456787</td>\n",
              "      <td>41213</td>\n",
              "    </tr>\n",
              "    <tr>\n",
              "      <th>2014-03-31</th>\n",
              "      <td>565.337891</td>\n",
              "      <td>565.447571</td>\n",
              "      <td>555.405151</td>\n",
              "      <td>555.445007</td>\n",
              "      <td>555.445007</td>\n",
              "      <td>10830</td>\n",
              "    </tr>\n",
              "    <tr>\n",
              "      <th>2014-04-01</th>\n",
              "      <td>557.180237</td>\n",
              "      <td>566.893616</td>\n",
              "      <td>557.180237</td>\n",
              "      <td>565.607117</td>\n",
              "      <td>565.607117</td>\n",
              "      <td>7922</td>\n",
              "    </tr>\n",
              "    <tr>\n",
              "      <th>2014-04-02</th>\n",
              "      <td>598.347229</td>\n",
              "      <td>603.174011</td>\n",
              "      <td>560.650757</td>\n",
              "      <td>565.447571</td>\n",
              "      <td>565.447571</td>\n",
              "      <td>147103</td>\n",
              "    </tr>\n",
              "  </tbody>\n",
              "</table>\n",
              "</div>"
            ],
            "text/plain": [
              "                  Open        High         Low       Close   Adj Close  Volume\n",
              "Date                                                                          \n",
              "2014-03-27  566.444824  566.444824  551.406128  556.930969  556.930969   13136\n",
              "2014-03-28  559.663452  564.879150  557.140381  558.456787  558.456787   41213\n",
              "2014-03-31  565.337891  565.447571  555.405151  555.445007  555.445007   10830\n",
              "2014-04-01  557.180237  566.893616  557.180237  565.607117  565.607117    7922\n",
              "2014-04-02  598.347229  603.174011  560.650757  565.447571  565.447571  147103"
            ]
          },
          "metadata": {
            "tags": []
          },
          "execution_count": 52
        }
      ]
    },
    {
      "cell_type": "code",
      "metadata": {
        "id": "Ubavz9vSq8rT"
      },
      "source": [
        "#Create functions to calculate the SMA, & the EMA\n",
        "#Create the Simple Moving Average Indicator\n",
        "#Typical time periods for moving averages are 15, 20,& 30\n",
        "#Create the Simple Moving Average Indicator\n",
        "def SMA(data, period=30, column='Close'):\n",
        "  return data[column].rolling(window=period).mean()\n",
        "#Create the Exponential Moving Average Indicator\n",
        "def EMA(data, period=20, column='Close'):\n",
        "  return data[column].ewm(span=period, adjust=False).mean()"
      ],
      "execution_count": 54,
      "outputs": []
    },
    {
      "cell_type": "code",
      "metadata": {
        "id": "yR34ps-KrArF"
      },
      "source": [
        "#Create a function to calculate the Moving Average Convergence/Divergence (MACD)\n",
        "def MACD(data, period_long=26, period_short=12, period_signal=9, column='Close'):\n",
        "    #Calculate the Short Term Exponential Moving Average\n",
        "    ShortEMA = EMA(data, period_short, column=column) #AKA Fast moving average\n",
        "    #Calculate the Long Term Exponential Moving Average\n",
        "    LongEMA = EMA(data, period_long, column=column) #AKA Slow moving average\n",
        "    #Calculate the Moving Average Convergence/Divergence (MACD)\n",
        "    data['MACD'] = ShortEMA - LongEMA\n",
        "    #Calcualte the signal line\n",
        "    data['Signal_Line'] = EMA(data, period_signal, column='MACD')#data['MACD'].ewm(span=period_signal, adjust=False).mean()\n",
        "    return data"
      ],
      "execution_count": 57,
      "outputs": []
    },
    {
      "cell_type": "code",
      "metadata": {
        "id": "mcqfzyD5rB_t"
      },
      "source": [
        "#Create a function to calculate the Relative Strength Index (RSI)\n",
        "def RSI(data, period = 14, column = 'Close'):\n",
        "  delta = data[column].diff(1) #Use diff() function to find the discrete difference over the column axis with period value equal to 1\n",
        "  delta = delta.dropna() # or delta[1:]\n",
        "  up =  delta.copy() #Make a copy of this object’s indices and data\n",
        "  down = delta.copy() #Make a copy of this object’s indices and data\n",
        "  up[up < 0] = 0 \n",
        "  down[down > 0] = 0 \n",
        "  data['up'] = up\n",
        "  data['down'] = down\n",
        "  AVG_Gain = SMA(data, period, column='up')#up.rolling(window=period).mean()\n",
        "  AVG_Loss = abs(SMA(data, period, column='down'))#abs(down.rolling(window=period).mean())\n",
        "  RS = AVG_Gain / AVG_Loss\n",
        "  RSI = 100.0 - (100.0/ (1.0 + RS))\n",
        "  data['RSI'] = RSI\n",
        "  return data"
      ],
      "execution_count": 55,
      "outputs": []
    },
    {
      "cell_type": "code",
      "metadata": {
        "colab": {
          "base_uri": "https://localhost:8080/",
          "height": 449
        },
        "id": "mqja6n77rE0G",
        "outputId": "97bda1b0-cbad-4596-ac69-5650a2a2eea0"
      },
      "source": [
        "#Add the indicators to the data set\n",
        "#Creating the data set \n",
        "MACD(df_EMA)\n",
        "RSI(df_EMA)\n",
        "df_EMA['SMA'] = SMA(df_EMA)\n",
        "df_EMA['EMA'] = EMA(df_EMA)\n",
        "#Show the data\n",
        "df_EMA\n"
      ],
      "execution_count": 58,
      "outputs": [
        {
          "output_type": "execute_result",
          "data": {
            "text/html": [
              "<div>\n",
              "<style scoped>\n",
              "    .dataframe tbody tr th:only-of-type {\n",
              "        vertical-align: middle;\n",
              "    }\n",
              "\n",
              "    .dataframe tbody tr th {\n",
              "        vertical-align: top;\n",
              "    }\n",
              "\n",
              "    .dataframe thead th {\n",
              "        text-align: right;\n",
              "    }\n",
              "</style>\n",
              "<table border=\"1\" class=\"dataframe\">\n",
              "  <thead>\n",
              "    <tr style=\"text-align: right;\">\n",
              "      <th></th>\n",
              "      <th>Open</th>\n",
              "      <th>High</th>\n",
              "      <th>Low</th>\n",
              "      <th>Close</th>\n",
              "      <th>Adj Close</th>\n",
              "      <th>Volume</th>\n",
              "      <th>MACD</th>\n",
              "      <th>Signal_Line</th>\n",
              "      <th>up</th>\n",
              "      <th>down</th>\n",
              "      <th>RSI</th>\n",
              "      <th>SMA</th>\n",
              "      <th>EMA</th>\n",
              "    </tr>\n",
              "    <tr>\n",
              "      <th>Date</th>\n",
              "      <th></th>\n",
              "      <th></th>\n",
              "      <th></th>\n",
              "      <th></th>\n",
              "      <th></th>\n",
              "      <th></th>\n",
              "      <th></th>\n",
              "      <th></th>\n",
              "      <th></th>\n",
              "      <th></th>\n",
              "      <th></th>\n",
              "      <th></th>\n",
              "      <th></th>\n",
              "    </tr>\n",
              "  </thead>\n",
              "  <tbody>\n",
              "    <tr>\n",
              "      <th>2014-03-27</th>\n",
              "      <td>566.444824</td>\n",
              "      <td>566.444824</td>\n",
              "      <td>551.406128</td>\n",
              "      <td>556.930969</td>\n",
              "      <td>556.930969</td>\n",
              "      <td>13136</td>\n",
              "      <td>0.000000</td>\n",
              "      <td>0.000000</td>\n",
              "      <td>NaN</td>\n",
              "      <td>NaN</td>\n",
              "      <td>NaN</td>\n",
              "      <td>NaN</td>\n",
              "      <td>556.930969</td>\n",
              "    </tr>\n",
              "    <tr>\n",
              "      <th>2014-03-28</th>\n",
              "      <td>559.663452</td>\n",
              "      <td>564.879150</td>\n",
              "      <td>557.140381</td>\n",
              "      <td>558.456787</td>\n",
              "      <td>558.456787</td>\n",
              "      <td>41213</td>\n",
              "      <td>0.121718</td>\n",
              "      <td>0.024344</td>\n",
              "      <td>1.525818</td>\n",
              "      <td>0.000000</td>\n",
              "      <td>NaN</td>\n",
              "      <td>NaN</td>\n",
              "      <td>557.076285</td>\n",
              "    </tr>\n",
              "    <tr>\n",
              "      <th>2014-03-31</th>\n",
              "      <td>565.337891</td>\n",
              "      <td>565.447571</td>\n",
              "      <td>555.405151</td>\n",
              "      <td>555.445007</td>\n",
              "      <td>555.445007</td>\n",
              "      <td>10830</td>\n",
              "      <td>-0.024563</td>\n",
              "      <td>0.014562</td>\n",
              "      <td>0.000000</td>\n",
              "      <td>-3.011780</td>\n",
              "      <td>NaN</td>\n",
              "      <td>NaN</td>\n",
              "      <td>556.920925</td>\n",
              "    </tr>\n",
              "    <tr>\n",
              "      <th>2014-04-01</th>\n",
              "      <td>557.180237</td>\n",
              "      <td>566.893616</td>\n",
              "      <td>557.180237</td>\n",
              "      <td>565.607117</td>\n",
              "      <td>565.607117</td>\n",
              "      <td>7922</td>\n",
              "      <td>0.671763</td>\n",
              "      <td>0.146002</td>\n",
              "      <td>10.162109</td>\n",
              "      <td>0.000000</td>\n",
              "      <td>NaN</td>\n",
              "      <td>NaN</td>\n",
              "      <td>557.748182</td>\n",
              "    </tr>\n",
              "    <tr>\n",
              "      <th>2014-04-02</th>\n",
              "      <td>598.347229</td>\n",
              "      <td>603.174011</td>\n",
              "      <td>560.650757</td>\n",
              "      <td>565.447571</td>\n",
              "      <td>565.447571</td>\n",
              "      <td>147103</td>\n",
              "      <td>1.196934</td>\n",
              "      <td>0.356189</td>\n",
              "      <td>0.000000</td>\n",
              "      <td>-0.159546</td>\n",
              "      <td>NaN</td>\n",
              "      <td>NaN</td>\n",
              "      <td>558.481457</td>\n",
              "    </tr>\n",
              "    <tr>\n",
              "      <th>...</th>\n",
              "      <td>...</td>\n",
              "      <td>...</td>\n",
              "      <td>...</td>\n",
              "      <td>...</td>\n",
              "      <td>...</td>\n",
              "      <td>...</td>\n",
              "      <td>...</td>\n",
              "      <td>...</td>\n",
              "      <td>...</td>\n",
              "      <td>...</td>\n",
              "      <td>...</td>\n",
              "      <td>...</td>\n",
              "      <td>...</td>\n",
              "    </tr>\n",
              "    <tr>\n",
              "      <th>2021-06-25</th>\n",
              "      <td>2539.139893</td>\n",
              "      <td>2550.100098</td>\n",
              "      <td>2528.879883</td>\n",
              "      <td>2539.899902</td>\n",
              "      <td>2539.899902</td>\n",
              "      <td>1674200</td>\n",
              "      <td>45.126803</td>\n",
              "      <td>47.284471</td>\n",
              "      <td>0.000000</td>\n",
              "      <td>-5.739990</td>\n",
              "      <td>70.444798</td>\n",
              "      <td>2449.394336</td>\n",
              "      <td>2492.146946</td>\n",
              "    </tr>\n",
              "    <tr>\n",
              "      <th>2021-06-28</th>\n",
              "      <td>2540.000000</td>\n",
              "      <td>2546.739990</td>\n",
              "      <td>2519.476074</td>\n",
              "      <td>2536.389893</td>\n",
              "      <td>2536.389893</td>\n",
              "      <td>1405500</td>\n",
              "      <td>43.257796</td>\n",
              "      <td>46.479136</td>\n",
              "      <td>0.000000</td>\n",
              "      <td>-3.510010</td>\n",
              "      <td>66.004960</td>\n",
              "      <td>2456.735335</td>\n",
              "      <td>2496.360560</td>\n",
              "    </tr>\n",
              "    <tr>\n",
              "      <th>2021-06-29</th>\n",
              "      <td>2535.449951</td>\n",
              "      <td>2540.000000</td>\n",
              "      <td>2508.739990</td>\n",
              "      <td>2520.370117</td>\n",
              "      <td>2520.370117</td>\n",
              "      <td>1047500</td>\n",
              "      <td>40.022578</td>\n",
              "      <td>45.187824</td>\n",
              "      <td>0.000000</td>\n",
              "      <td>-16.019775</td>\n",
              "      <td>58.289995</td>\n",
              "      <td>2463.367342</td>\n",
              "      <td>2498.647184</td>\n",
              "    </tr>\n",
              "    <tr>\n",
              "      <th>2021-06-30</th>\n",
              "      <td>2513.071045</td>\n",
              "      <td>2516.000000</td>\n",
              "      <td>2495.149902</td>\n",
              "      <td>2506.320068</td>\n",
              "      <td>2506.320068</td>\n",
              "      <td>1200300</td>\n",
              "      <td>35.910963</td>\n",
              "      <td>43.332452</td>\n",
              "      <td>0.000000</td>\n",
              "      <td>-14.050049</td>\n",
              "      <td>45.182228</td>\n",
              "      <td>2470.130347</td>\n",
              "      <td>2499.377935</td>\n",
              "    </tr>\n",
              "    <tr>\n",
              "      <th>2021-07-01</th>\n",
              "      <td>2496.995117</td>\n",
              "      <td>2529.250000</td>\n",
              "      <td>2496.995117</td>\n",
              "      <td>2527.370117</td>\n",
              "      <td>2527.370117</td>\n",
              "      <td>856000</td>\n",
              "      <td>33.959577</td>\n",
              "      <td>41.457877</td>\n",
              "      <td>21.050049</td>\n",
              "      <td>0.000000</td>\n",
              "      <td>53.907946</td>\n",
              "      <td>2477.419019</td>\n",
              "      <td>2502.043857</td>\n",
              "    </tr>\n",
              "  </tbody>\n",
              "</table>\n",
              "<p>1830 rows × 13 columns</p>\n",
              "</div>"
            ],
            "text/plain": [
              "                   Open         High  ...          SMA          EMA\n",
              "Date                                  ...                          \n",
              "2014-03-27   566.444824   566.444824  ...          NaN   556.930969\n",
              "2014-03-28   559.663452   564.879150  ...          NaN   557.076285\n",
              "2014-03-31   565.337891   565.447571  ...          NaN   556.920925\n",
              "2014-04-01   557.180237   566.893616  ...          NaN   557.748182\n",
              "2014-04-02   598.347229   603.174011  ...          NaN   558.481457\n",
              "...                 ...          ...  ...          ...          ...\n",
              "2021-06-25  2539.139893  2550.100098  ...  2449.394336  2492.146946\n",
              "2021-06-28  2540.000000  2546.739990  ...  2456.735335  2496.360560\n",
              "2021-06-29  2535.449951  2540.000000  ...  2463.367342  2498.647184\n",
              "2021-06-30  2513.071045  2516.000000  ...  2470.130347  2499.377935\n",
              "2021-07-01  2496.995117  2529.250000  ...  2477.419019  2502.043857\n",
              "\n",
              "[1830 rows x 13 columns]"
            ]
          },
          "metadata": {
            "tags": []
          },
          "execution_count": 58
        }
      ]
    },
    {
      "cell_type": "code",
      "metadata": {
        "colab": {
          "base_uri": "https://localhost:8080/",
          "height": 449
        },
        "id": "RLbb_uLkrJVw",
        "outputId": "35b72e7c-a50e-4f0b-c163-a9611d0b45c8"
      },
      "source": [
        "#Create the target column\n",
        "df_EMA['Target'] = np.where(df_EMA['Close'].shift(-1) > df_EMA['Close'], 1, 0) # if tomorrows price is greater than todays price put 1 else put 0\n",
        "#Remove the date column\n",
        "#remove_list = ['EMA','Target'] \n",
        "#df = df.drop(columns=remove_list)\n",
        "#Show the data\n",
        "df_EMA\n"
      ],
      "execution_count": 59,
      "outputs": [
        {
          "output_type": "execute_result",
          "data": {
            "text/html": [
              "<div>\n",
              "<style scoped>\n",
              "    .dataframe tbody tr th:only-of-type {\n",
              "        vertical-align: middle;\n",
              "    }\n",
              "\n",
              "    .dataframe tbody tr th {\n",
              "        vertical-align: top;\n",
              "    }\n",
              "\n",
              "    .dataframe thead th {\n",
              "        text-align: right;\n",
              "    }\n",
              "</style>\n",
              "<table border=\"1\" class=\"dataframe\">\n",
              "  <thead>\n",
              "    <tr style=\"text-align: right;\">\n",
              "      <th></th>\n",
              "      <th>Open</th>\n",
              "      <th>High</th>\n",
              "      <th>Low</th>\n",
              "      <th>Close</th>\n",
              "      <th>Adj Close</th>\n",
              "      <th>Volume</th>\n",
              "      <th>MACD</th>\n",
              "      <th>Signal_Line</th>\n",
              "      <th>up</th>\n",
              "      <th>down</th>\n",
              "      <th>RSI</th>\n",
              "      <th>SMA</th>\n",
              "      <th>EMA</th>\n",
              "      <th>Target</th>\n",
              "    </tr>\n",
              "    <tr>\n",
              "      <th>Date</th>\n",
              "      <th></th>\n",
              "      <th></th>\n",
              "      <th></th>\n",
              "      <th></th>\n",
              "      <th></th>\n",
              "      <th></th>\n",
              "      <th></th>\n",
              "      <th></th>\n",
              "      <th></th>\n",
              "      <th></th>\n",
              "      <th></th>\n",
              "      <th></th>\n",
              "      <th></th>\n",
              "      <th></th>\n",
              "    </tr>\n",
              "  </thead>\n",
              "  <tbody>\n",
              "    <tr>\n",
              "      <th>2014-03-27</th>\n",
              "      <td>566.444824</td>\n",
              "      <td>566.444824</td>\n",
              "      <td>551.406128</td>\n",
              "      <td>556.930969</td>\n",
              "      <td>556.930969</td>\n",
              "      <td>13136</td>\n",
              "      <td>0.000000</td>\n",
              "      <td>0.000000</td>\n",
              "      <td>NaN</td>\n",
              "      <td>NaN</td>\n",
              "      <td>NaN</td>\n",
              "      <td>NaN</td>\n",
              "      <td>556.930969</td>\n",
              "      <td>1</td>\n",
              "    </tr>\n",
              "    <tr>\n",
              "      <th>2014-03-28</th>\n",
              "      <td>559.663452</td>\n",
              "      <td>564.879150</td>\n",
              "      <td>557.140381</td>\n",
              "      <td>558.456787</td>\n",
              "      <td>558.456787</td>\n",
              "      <td>41213</td>\n",
              "      <td>0.121718</td>\n",
              "      <td>0.024344</td>\n",
              "      <td>1.525818</td>\n",
              "      <td>0.000000</td>\n",
              "      <td>NaN</td>\n",
              "      <td>NaN</td>\n",
              "      <td>557.076285</td>\n",
              "      <td>0</td>\n",
              "    </tr>\n",
              "    <tr>\n",
              "      <th>2014-03-31</th>\n",
              "      <td>565.337891</td>\n",
              "      <td>565.447571</td>\n",
              "      <td>555.405151</td>\n",
              "      <td>555.445007</td>\n",
              "      <td>555.445007</td>\n",
              "      <td>10830</td>\n",
              "      <td>-0.024563</td>\n",
              "      <td>0.014562</td>\n",
              "      <td>0.000000</td>\n",
              "      <td>-3.011780</td>\n",
              "      <td>NaN</td>\n",
              "      <td>NaN</td>\n",
              "      <td>556.920925</td>\n",
              "      <td>1</td>\n",
              "    </tr>\n",
              "    <tr>\n",
              "      <th>2014-04-01</th>\n",
              "      <td>557.180237</td>\n",
              "      <td>566.893616</td>\n",
              "      <td>557.180237</td>\n",
              "      <td>565.607117</td>\n",
              "      <td>565.607117</td>\n",
              "      <td>7922</td>\n",
              "      <td>0.671763</td>\n",
              "      <td>0.146002</td>\n",
              "      <td>10.162109</td>\n",
              "      <td>0.000000</td>\n",
              "      <td>NaN</td>\n",
              "      <td>NaN</td>\n",
              "      <td>557.748182</td>\n",
              "      <td>0</td>\n",
              "    </tr>\n",
              "    <tr>\n",
              "      <th>2014-04-02</th>\n",
              "      <td>598.347229</td>\n",
              "      <td>603.174011</td>\n",
              "      <td>560.650757</td>\n",
              "      <td>565.447571</td>\n",
              "      <td>565.447571</td>\n",
              "      <td>147103</td>\n",
              "      <td>1.196934</td>\n",
              "      <td>0.356189</td>\n",
              "      <td>0.000000</td>\n",
              "      <td>-0.159546</td>\n",
              "      <td>NaN</td>\n",
              "      <td>NaN</td>\n",
              "      <td>558.481457</td>\n",
              "      <td>1</td>\n",
              "    </tr>\n",
              "    <tr>\n",
              "      <th>...</th>\n",
              "      <td>...</td>\n",
              "      <td>...</td>\n",
              "      <td>...</td>\n",
              "      <td>...</td>\n",
              "      <td>...</td>\n",
              "      <td>...</td>\n",
              "      <td>...</td>\n",
              "      <td>...</td>\n",
              "      <td>...</td>\n",
              "      <td>...</td>\n",
              "      <td>...</td>\n",
              "      <td>...</td>\n",
              "      <td>...</td>\n",
              "      <td>...</td>\n",
              "    </tr>\n",
              "    <tr>\n",
              "      <th>2021-06-25</th>\n",
              "      <td>2539.139893</td>\n",
              "      <td>2550.100098</td>\n",
              "      <td>2528.879883</td>\n",
              "      <td>2539.899902</td>\n",
              "      <td>2539.899902</td>\n",
              "      <td>1674200</td>\n",
              "      <td>45.126803</td>\n",
              "      <td>47.284471</td>\n",
              "      <td>0.000000</td>\n",
              "      <td>-5.739990</td>\n",
              "      <td>70.444798</td>\n",
              "      <td>2449.394336</td>\n",
              "      <td>2492.146946</td>\n",
              "      <td>0</td>\n",
              "    </tr>\n",
              "    <tr>\n",
              "      <th>2021-06-28</th>\n",
              "      <td>2540.000000</td>\n",
              "      <td>2546.739990</td>\n",
              "      <td>2519.476074</td>\n",
              "      <td>2536.389893</td>\n",
              "      <td>2536.389893</td>\n",
              "      <td>1405500</td>\n",
              "      <td>43.257796</td>\n",
              "      <td>46.479136</td>\n",
              "      <td>0.000000</td>\n",
              "      <td>-3.510010</td>\n",
              "      <td>66.004960</td>\n",
              "      <td>2456.735335</td>\n",
              "      <td>2496.360560</td>\n",
              "      <td>0</td>\n",
              "    </tr>\n",
              "    <tr>\n",
              "      <th>2021-06-29</th>\n",
              "      <td>2535.449951</td>\n",
              "      <td>2540.000000</td>\n",
              "      <td>2508.739990</td>\n",
              "      <td>2520.370117</td>\n",
              "      <td>2520.370117</td>\n",
              "      <td>1047500</td>\n",
              "      <td>40.022578</td>\n",
              "      <td>45.187824</td>\n",
              "      <td>0.000000</td>\n",
              "      <td>-16.019775</td>\n",
              "      <td>58.289995</td>\n",
              "      <td>2463.367342</td>\n",
              "      <td>2498.647184</td>\n",
              "      <td>0</td>\n",
              "    </tr>\n",
              "    <tr>\n",
              "      <th>2021-06-30</th>\n",
              "      <td>2513.071045</td>\n",
              "      <td>2516.000000</td>\n",
              "      <td>2495.149902</td>\n",
              "      <td>2506.320068</td>\n",
              "      <td>2506.320068</td>\n",
              "      <td>1200300</td>\n",
              "      <td>35.910963</td>\n",
              "      <td>43.332452</td>\n",
              "      <td>0.000000</td>\n",
              "      <td>-14.050049</td>\n",
              "      <td>45.182228</td>\n",
              "      <td>2470.130347</td>\n",
              "      <td>2499.377935</td>\n",
              "      <td>1</td>\n",
              "    </tr>\n",
              "    <tr>\n",
              "      <th>2021-07-01</th>\n",
              "      <td>2496.995117</td>\n",
              "      <td>2529.250000</td>\n",
              "      <td>2496.995117</td>\n",
              "      <td>2527.370117</td>\n",
              "      <td>2527.370117</td>\n",
              "      <td>856000</td>\n",
              "      <td>33.959577</td>\n",
              "      <td>41.457877</td>\n",
              "      <td>21.050049</td>\n",
              "      <td>0.000000</td>\n",
              "      <td>53.907946</td>\n",
              "      <td>2477.419019</td>\n",
              "      <td>2502.043857</td>\n",
              "      <td>0</td>\n",
              "    </tr>\n",
              "  </tbody>\n",
              "</table>\n",
              "<p>1830 rows × 14 columns</p>\n",
              "</div>"
            ],
            "text/plain": [
              "                   Open         High  ...          EMA  Target\n",
              "Date                                  ...                     \n",
              "2014-03-27   566.444824   566.444824  ...   556.930969       1\n",
              "2014-03-28   559.663452   564.879150  ...   557.076285       0\n",
              "2014-03-31   565.337891   565.447571  ...   556.920925       1\n",
              "2014-04-01   557.180237   566.893616  ...   557.748182       0\n",
              "2014-04-02   598.347229   603.174011  ...   558.481457       1\n",
              "...                 ...          ...  ...          ...     ...\n",
              "2021-06-25  2539.139893  2550.100098  ...  2492.146946       0\n",
              "2021-06-28  2540.000000  2546.739990  ...  2496.360560       0\n",
              "2021-06-29  2535.449951  2540.000000  ...  2498.647184       0\n",
              "2021-06-30  2513.071045  2516.000000  ...  2499.377935       1\n",
              "2021-07-01  2496.995117  2529.250000  ...  2502.043857       0\n",
              "\n",
              "[1830 rows x 14 columns]"
            ]
          },
          "metadata": {
            "tags": []
          },
          "execution_count": 59
        }
      ]
    },
    {
      "cell_type": "markdown",
      "metadata": {
        "id": "R37jNuoCrMjb"
      },
      "source": [
        "# Draw the plots with SMA, EMA, MACD, RSI\n"
      ]
    },
    {
      "cell_type": "code",
      "metadata": {
        "colab": {
          "base_uri": "https://localhost:8080/",
          "height": 284
        },
        "id": "KOo_8OfQrL71",
        "outputId": "38bc227e-881a-4c59-8592-23b523bbeafb"
      },
      "source": [
        "# Plot Moving average:\n",
        "orig = plt.plot(df_EMA['Close'], color='blue',label='Original Series')\n",
        "SMA = plt.plot(df_EMA['SMA'], color='red', label='Simple Moving Average')\n",
        "EMA = plt.plot(df_EMA['EMA'], color='green', label='EMA')\n",
        "MACD = plt.plot(df_EMA['MACD'], color='yellow', label='MACD')\n",
        "RSI = plt.plot(df_EMA['RSI'], color='black', label='RSI')\n",
        "plt.legend(loc='best')\n",
        "plt.title('Moving Average')\n",
        "plt.show(block=False)"
      ],
      "execution_count": 36,
      "outputs": [
        {
          "output_type": "display_data",
          "data": {
            "image/png": "[encoded data removed]",
            "text/plain": [
              "<Figure size 432x288 with 1 Axes>"
            ]
          },
          "metadata": {
            "tags": [],
            "needs_background": "light"
          }
        }
      ]
    },
    {
      "cell_type": "markdown",
      "metadata": {
        "id": "FkbOSB0wrQSb"
      },
      "source": [
        "# PREDICTIONS\n"
      ]
    },
    {
      "cell_type": "code",
      "metadata": {
        "colab": {
          "base_uri": "https://localhost:8080/",
          "height": 449
        },
        "id": "PpXn6IDfrQ1k",
        "outputId": "c45dc3e1-9622-4e5d-de8c-1d3a27484043"
      },
      "source": [
        "#Remove the first 29 days of data\n",
        "df_EMA = df_EMA[29:]\n",
        "#Show the data set\n",
        "df_EMA"
      ],
      "execution_count": 60,
      "outputs": [
        {
          "output_type": "execute_result",
          "data": {
            "text/html": [
              "<div>\n",
              "<style scoped>\n",
              "    .dataframe tbody tr th:only-of-type {\n",
              "        vertical-align: middle;\n",
              "    }\n",
              "\n",
              "    .dataframe tbody tr th {\n",
              "        vertical-align: top;\n",
              "    }\n",
              "\n",
              "    .dataframe thead th {\n",
              "        text-align: right;\n",
              "    }\n",
              "</style>\n",
              "<table border=\"1\" class=\"dataframe\">\n",
              "  <thead>\n",
              "    <tr style=\"text-align: right;\">\n",
              "      <th></th>\n",
              "      <th>Open</th>\n",
              "      <th>High</th>\n",
              "      <th>Low</th>\n",
              "      <th>Close</th>\n",
              "      <th>Adj Close</th>\n",
              "      <th>Volume</th>\n",
              "      <th>MACD</th>\n",
              "      <th>Signal_Line</th>\n",
              "      <th>up</th>\n",
              "      <th>down</th>\n",
              "      <th>RSI</th>\n",
              "      <th>SMA</th>\n",
              "      <th>EMA</th>\n",
              "      <th>Target</th>\n",
              "    </tr>\n",
              "    <tr>\n",
              "      <th>Date</th>\n",
              "      <th></th>\n",
              "      <th></th>\n",
              "      <th></th>\n",
              "      <th></th>\n",
              "      <th></th>\n",
              "      <th></th>\n",
              "      <th></th>\n",
              "      <th></th>\n",
              "      <th></th>\n",
              "      <th></th>\n",
              "      <th></th>\n",
              "      <th></th>\n",
              "      <th></th>\n",
              "      <th></th>\n",
              "    </tr>\n",
              "  </thead>\n",
              "  <tbody>\n",
              "    <tr>\n",
              "      <th>2014-05-08</th>\n",
              "      <td>507.067841</td>\n",
              "      <td>515.813843</td>\n",
              "      <td>505.063354</td>\n",
              "      <td>509.600891</td>\n",
              "      <td>509.600891</td>\n",
              "      <td>2021334</td>\n",
              "      <td>-9.107210</td>\n",
              "      <td>-8.055490</td>\n",
              "      <td>1.037140</td>\n",
              "      <td>0.000000</td>\n",
              "      <td>32.564614</td>\n",
              "      <td>536.500707</td>\n",
              "      <td>526.898734</td>\n",
              "      <td>1</td>\n",
              "    </tr>\n",
              "    <tr>\n",
              "      <th>2014-05-09</th>\n",
              "      <td>509.351562</td>\n",
              "      <td>518.476501</td>\n",
              "      <td>502.819519</td>\n",
              "      <td>517.309753</td>\n",
              "      <td>517.309753</td>\n",
              "      <td>2439479</td>\n",
              "      <td>-8.746404</td>\n",
              "      <td>-8.193673</td>\n",
              "      <td>7.708862</td>\n",
              "      <td>0.000000</td>\n",
              "      <td>43.153824</td>\n",
              "      <td>535.180000</td>\n",
              "      <td>525.985498</td>\n",
              "      <td>1</td>\n",
              "    </tr>\n",
              "    <tr>\n",
              "      <th>2014-05-12</th>\n",
              "      <td>522.076660</td>\n",
              "      <td>528.738342</td>\n",
              "      <td>517.588989</td>\n",
              "      <td>528.469116</td>\n",
              "      <td>528.469116</td>\n",
              "      <td>1912536</td>\n",
              "      <td>-7.473842</td>\n",
              "      <td>-8.049707</td>\n",
              "      <td>11.159363</td>\n",
              "      <td>0.000000</td>\n",
              "      <td>46.834151</td>\n",
              "      <td>534.180411</td>\n",
              "      <td>526.222033</td>\n",
              "      <td>1</td>\n",
              "    </tr>\n",
              "    <tr>\n",
              "      <th>2014-05-13</th>\n",
              "      <td>529.436462</td>\n",
              "      <td>534.602234</td>\n",
              "      <td>528.060181</td>\n",
              "      <td>531.630432</td>\n",
              "      <td>531.630432</td>\n",
              "      <td>1653427</td>\n",
              "      <td>-6.139463</td>\n",
              "      <td>-7.667658</td>\n",
              "      <td>3.161316</td>\n",
              "      <td>0.000000</td>\n",
              "      <td>54.239633</td>\n",
              "      <td>533.386592</td>\n",
              "      <td>526.737118</td>\n",
              "      <td>0</td>\n",
              "    </tr>\n",
              "    <tr>\n",
              "      <th>2014-05-14</th>\n",
              "      <td>531.540649</td>\n",
              "      <td>531.540649</td>\n",
              "      <td>523.851746</td>\n",
              "      <td>525.208069</td>\n",
              "      <td>525.208069</td>\n",
              "      <td>1191763</td>\n",
              "      <td>-5.536369</td>\n",
              "      <td>-7.241400</td>\n",
              "      <td>0.000000</td>\n",
              "      <td>-6.422363</td>\n",
              "      <td>50.965177</td>\n",
              "      <td>532.039957</td>\n",
              "      <td>526.591495</td>\n",
              "      <td>0</td>\n",
              "    </tr>\n",
              "    <tr>\n",
              "      <th>...</th>\n",
              "      <td>...</td>\n",
              "      <td>...</td>\n",
              "      <td>...</td>\n",
              "      <td>...</td>\n",
              "      <td>...</td>\n",
              "      <td>...</td>\n",
              "      <td>...</td>\n",
              "      <td>...</td>\n",
              "      <td>...</td>\n",
              "      <td>...</td>\n",
              "      <td>...</td>\n",
              "      <td>...</td>\n",
              "      <td>...</td>\n",
              "      <td>...</td>\n",
              "    </tr>\n",
              "    <tr>\n",
              "      <th>2021-06-25</th>\n",
              "      <td>2539.139893</td>\n",
              "      <td>2550.100098</td>\n",
              "      <td>2528.879883</td>\n",
              "      <td>2539.899902</td>\n",
              "      <td>2539.899902</td>\n",
              "      <td>1674200</td>\n",
              "      <td>45.126803</td>\n",
              "      <td>47.284471</td>\n",
              "      <td>0.000000</td>\n",
              "      <td>-5.739990</td>\n",
              "      <td>70.444798</td>\n",
              "      <td>2449.394336</td>\n",
              "      <td>2492.146946</td>\n",
              "      <td>0</td>\n",
              "    </tr>\n",
              "    <tr>\n",
              "      <th>2021-06-28</th>\n",
              "      <td>2540.000000</td>\n",
              "      <td>2546.739990</td>\n",
              "      <td>2519.476074</td>\n",
              "      <td>2536.389893</td>\n",
              "      <td>2536.389893</td>\n",
              "      <td>1405500</td>\n",
              "      <td>43.257796</td>\n",
              "      <td>46.479136</td>\n",
              "      <td>0.000000</td>\n",
              "      <td>-3.510010</td>\n",
              "      <td>66.004960</td>\n",
              "      <td>2456.735335</td>\n",
              "      <td>2496.360560</td>\n",
              "      <td>0</td>\n",
              "    </tr>\n",
              "    <tr>\n",
              "      <th>2021-06-29</th>\n",
              "      <td>2535.449951</td>\n",
              "      <td>2540.000000</td>\n",
              "      <td>2508.739990</td>\n",
              "      <td>2520.370117</td>\n",
              "      <td>2520.370117</td>\n",
              "      <td>1047500</td>\n",
              "      <td>40.022578</td>\n",
              "      <td>45.187824</td>\n",
              "      <td>0.000000</td>\n",
              "      <td>-16.019775</td>\n",
              "      <td>58.289995</td>\n",
              "      <td>2463.367342</td>\n",
              "      <td>2498.647184</td>\n",
              "      <td>0</td>\n",
              "    </tr>\n",
              "    <tr>\n",
              "      <th>2021-06-30</th>\n",
              "      <td>2513.071045</td>\n",
              "      <td>2516.000000</td>\n",
              "      <td>2495.149902</td>\n",
              "      <td>2506.320068</td>\n",
              "      <td>2506.320068</td>\n",
              "      <td>1200300</td>\n",
              "      <td>35.910963</td>\n",
              "      <td>43.332452</td>\n",
              "      <td>0.000000</td>\n",
              "      <td>-14.050049</td>\n",
              "      <td>45.182228</td>\n",
              "      <td>2470.130347</td>\n",
              "      <td>2499.377935</td>\n",
              "      <td>1</td>\n",
              "    </tr>\n",
              "    <tr>\n",
              "      <th>2021-07-01</th>\n",
              "      <td>2496.995117</td>\n",
              "      <td>2529.250000</td>\n",
              "      <td>2496.995117</td>\n",
              "      <td>2527.370117</td>\n",
              "      <td>2527.370117</td>\n",
              "      <td>856000</td>\n",
              "      <td>33.959577</td>\n",
              "      <td>41.457877</td>\n",
              "      <td>21.050049</td>\n",
              "      <td>0.000000</td>\n",
              "      <td>53.907946</td>\n",
              "      <td>2477.419019</td>\n",
              "      <td>2502.043857</td>\n",
              "      <td>0</td>\n",
              "    </tr>\n",
              "  </tbody>\n",
              "</table>\n",
              "<p>1801 rows × 14 columns</p>\n",
              "</div>"
            ],
            "text/plain": [
              "                   Open         High  ...          EMA  Target\n",
              "Date                                  ...                     \n",
              "2014-05-08   507.067841   515.813843  ...   526.898734       1\n",
              "2014-05-09   509.351562   518.476501  ...   525.985498       1\n",
              "2014-05-12   522.076660   528.738342  ...   526.222033       1\n",
              "2014-05-13   529.436462   534.602234  ...   526.737118       0\n",
              "2014-05-14   531.540649   531.540649  ...   526.591495       0\n",
              "...                 ...          ...  ...          ...     ...\n",
              "2021-06-25  2539.139893  2550.100098  ...  2492.146946       0\n",
              "2021-06-28  2540.000000  2546.739990  ...  2496.360560       0\n",
              "2021-06-29  2535.449951  2540.000000  ...  2498.647184       0\n",
              "2021-06-30  2513.071045  2516.000000  ...  2499.377935       1\n",
              "2021-07-01  2496.995117  2529.250000  ...  2502.043857       0\n",
              "\n",
              "[1801 rows x 14 columns]"
            ]
          },
          "metadata": {
            "tags": []
          },
          "execution_count": 60
        }
      ]
    },
    {
      "cell_type": "code",
      "metadata": {
        "id": "3sm2ay7wrSUv"
      },
      "source": [
        "#Split the data set into a feature or independent data set (X) and a target or dependent data set (Y)\n",
        "keep_columns = ['Close', 'MACD', 'Signal_Line', 'RSI', 'SMA', 'EMA']\n",
        "X = df_EMA[keep_columns].values\n",
        "Y = df_EMA['Target'].values"
      ],
      "execution_count": 61,
      "outputs": []
    },
    {
      "cell_type": "code",
      "metadata": {
        "colab": {
          "base_uri": "https://localhost:8080/",
          "height": 449
        },
        "id": "sb7-bckNAyq3",
        "outputId": "62969f8b-f0c2-4e8a-c40c-1a34e88c9e1f"
      },
      "source": [
        "df_EMA"
      ],
      "execution_count": 52,
      "outputs": [
        {
          "output_type": "execute_result",
          "data": {
            "text/html": [
              "<div>\n",
              "<style scoped>\n",
              "    .dataframe tbody tr th:only-of-type {\n",
              "        vertical-align: middle;\n",
              "    }\n",
              "\n",
              "    .dataframe tbody tr th {\n",
              "        vertical-align: top;\n",
              "    }\n",
              "\n",
              "    .dataframe thead th {\n",
              "        text-align: right;\n",
              "    }\n",
              "</style>\n",
              "<table border=\"1\" class=\"dataframe\">\n",
              "  <thead>\n",
              "    <tr style=\"text-align: right;\">\n",
              "      <th></th>\n",
              "      <th>Open</th>\n",
              "      <th>High</th>\n",
              "      <th>Low</th>\n",
              "      <th>Close</th>\n",
              "      <th>Adj Close</th>\n",
              "      <th>Volume</th>\n",
              "      <th>MACD</th>\n",
              "      <th>Signal_Line</th>\n",
              "      <th>up</th>\n",
              "      <th>down</th>\n",
              "      <th>RSI</th>\n",
              "      <th>SMA</th>\n",
              "      <th>EMA</th>\n",
              "      <th>Target</th>\n",
              "    </tr>\n",
              "    <tr>\n",
              "      <th>Date</th>\n",
              "      <th></th>\n",
              "      <th></th>\n",
              "      <th></th>\n",
              "      <th></th>\n",
              "      <th></th>\n",
              "      <th></th>\n",
              "      <th></th>\n",
              "      <th></th>\n",
              "      <th></th>\n",
              "      <th></th>\n",
              "      <th></th>\n",
              "      <th></th>\n",
              "      <th></th>\n",
              "      <th></th>\n",
              "    </tr>\n",
              "  </thead>\n",
              "  <tbody>\n",
              "    <tr>\n",
              "      <th>2014-05-08</th>\n",
              "      <td>507.067841</td>\n",
              "      <td>515.813843</td>\n",
              "      <td>505.063354</td>\n",
              "      <td>509.600891</td>\n",
              "      <td>509.600891</td>\n",
              "      <td>2021334</td>\n",
              "      <td>-9.107210</td>\n",
              "      <td>-8.055490</td>\n",
              "      <td>1.037140</td>\n",
              "      <td>0.000000</td>\n",
              "      <td>32.564614</td>\n",
              "      <td>536.500707</td>\n",
              "      <td>526.898734</td>\n",
              "      <td>1</td>\n",
              "    </tr>\n",
              "    <tr>\n",
              "      <th>2014-05-09</th>\n",
              "      <td>509.351562</td>\n",
              "      <td>518.476501</td>\n",
              "      <td>502.819519</td>\n",
              "      <td>517.309753</td>\n",
              "      <td>517.309753</td>\n",
              "      <td>2439479</td>\n",
              "      <td>-8.746404</td>\n",
              "      <td>-8.193673</td>\n",
              "      <td>7.708862</td>\n",
              "      <td>0.000000</td>\n",
              "      <td>43.153824</td>\n",
              "      <td>535.180000</td>\n",
              "      <td>525.985498</td>\n",
              "      <td>1</td>\n",
              "    </tr>\n",
              "    <tr>\n",
              "      <th>2014-05-12</th>\n",
              "      <td>522.076660</td>\n",
              "      <td>528.738342</td>\n",
              "      <td>517.588989</td>\n",
              "      <td>528.469116</td>\n",
              "      <td>528.469116</td>\n",
              "      <td>1912536</td>\n",
              "      <td>-7.473842</td>\n",
              "      <td>-8.049707</td>\n",
              "      <td>11.159363</td>\n",
              "      <td>0.000000</td>\n",
              "      <td>46.834151</td>\n",
              "      <td>534.180411</td>\n",
              "      <td>526.222033</td>\n",
              "      <td>1</td>\n",
              "    </tr>\n",
              "    <tr>\n",
              "      <th>2014-05-13</th>\n",
              "      <td>529.436462</td>\n",
              "      <td>534.602234</td>\n",
              "      <td>528.060181</td>\n",
              "      <td>531.630432</td>\n",
              "      <td>531.630432</td>\n",
              "      <td>1653427</td>\n",
              "      <td>-6.139463</td>\n",
              "      <td>-7.667658</td>\n",
              "      <td>3.161316</td>\n",
              "      <td>0.000000</td>\n",
              "      <td>54.239633</td>\n",
              "      <td>533.386592</td>\n",
              "      <td>526.737118</td>\n",
              "      <td>0</td>\n",
              "    </tr>\n",
              "    <tr>\n",
              "      <th>2014-05-14</th>\n",
              "      <td>531.540649</td>\n",
              "      <td>531.540649</td>\n",
              "      <td>523.851746</td>\n",
              "      <td>525.208069</td>\n",
              "      <td>525.208069</td>\n",
              "      <td>1191763</td>\n",
              "      <td>-5.536369</td>\n",
              "      <td>-7.241400</td>\n",
              "      <td>0.000000</td>\n",
              "      <td>-6.422363</td>\n",
              "      <td>50.965177</td>\n",
              "      <td>532.039957</td>\n",
              "      <td>526.591495</td>\n",
              "      <td>0</td>\n",
              "    </tr>\n",
              "    <tr>\n",
              "      <th>...</th>\n",
              "      <td>...</td>\n",
              "      <td>...</td>\n",
              "      <td>...</td>\n",
              "      <td>...</td>\n",
              "      <td>...</td>\n",
              "      <td>...</td>\n",
              "      <td>...</td>\n",
              "      <td>...</td>\n",
              "      <td>...</td>\n",
              "      <td>...</td>\n",
              "      <td>...</td>\n",
              "      <td>...</td>\n",
              "      <td>...</td>\n",
              "      <td>...</td>\n",
              "    </tr>\n",
              "    <tr>\n",
              "      <th>2021-06-25</th>\n",
              "      <td>2539.139893</td>\n",
              "      <td>2550.100098</td>\n",
              "      <td>2528.879883</td>\n",
              "      <td>2539.899902</td>\n",
              "      <td>2539.899902</td>\n",
              "      <td>1674200</td>\n",
              "      <td>45.126803</td>\n",
              "      <td>47.284471</td>\n",
              "      <td>0.000000</td>\n",
              "      <td>-5.739990</td>\n",
              "      <td>70.444798</td>\n",
              "      <td>2449.394336</td>\n",
              "      <td>2492.146946</td>\n",
              "      <td>0</td>\n",
              "    </tr>\n",
              "    <tr>\n",
              "      <th>2021-06-28</th>\n",
              "      <td>2540.000000</td>\n",
              "      <td>2546.739990</td>\n",
              "      <td>2519.476074</td>\n",
              "      <td>2536.389893</td>\n",
              "      <td>2536.389893</td>\n",
              "      <td>1405500</td>\n",
              "      <td>43.257796</td>\n",
              "      <td>46.479136</td>\n",
              "      <td>0.000000</td>\n",
              "      <td>-3.510010</td>\n",
              "      <td>66.004960</td>\n",
              "      <td>2456.735335</td>\n",
              "      <td>2496.360560</td>\n",
              "      <td>0</td>\n",
              "    </tr>\n",
              "    <tr>\n",
              "      <th>2021-06-29</th>\n",
              "      <td>2535.449951</td>\n",
              "      <td>2540.000000</td>\n",
              "      <td>2508.739990</td>\n",
              "      <td>2520.370117</td>\n",
              "      <td>2520.370117</td>\n",
              "      <td>1047500</td>\n",
              "      <td>40.022578</td>\n",
              "      <td>45.187824</td>\n",
              "      <td>0.000000</td>\n",
              "      <td>-16.019775</td>\n",
              "      <td>58.289995</td>\n",
              "      <td>2463.367342</td>\n",
              "      <td>2498.647184</td>\n",
              "      <td>0</td>\n",
              "    </tr>\n",
              "    <tr>\n",
              "      <th>2021-06-30</th>\n",
              "      <td>2513.071045</td>\n",
              "      <td>2516.000000</td>\n",
              "      <td>2495.149902</td>\n",
              "      <td>2506.320068</td>\n",
              "      <td>2506.320068</td>\n",
              "      <td>1200300</td>\n",
              "      <td>35.910963</td>\n",
              "      <td>43.332452</td>\n",
              "      <td>0.000000</td>\n",
              "      <td>-14.050049</td>\n",
              "      <td>45.182228</td>\n",
              "      <td>2470.130347</td>\n",
              "      <td>2499.377935</td>\n",
              "      <td>1</td>\n",
              "    </tr>\n",
              "    <tr>\n",
              "      <th>2021-07-01</th>\n",
              "      <td>2496.995117</td>\n",
              "      <td>2529.250000</td>\n",
              "      <td>2496.995117</td>\n",
              "      <td>2527.370117</td>\n",
              "      <td>2527.370117</td>\n",
              "      <td>856000</td>\n",
              "      <td>33.959577</td>\n",
              "      <td>41.457877</td>\n",
              "      <td>21.050049</td>\n",
              "      <td>0.000000</td>\n",
              "      <td>53.907946</td>\n",
              "      <td>2477.419019</td>\n",
              "      <td>2502.043857</td>\n",
              "      <td>0</td>\n",
              "    </tr>\n",
              "  </tbody>\n",
              "</table>\n",
              "<p>1801 rows × 14 columns</p>\n",
              "</div>"
            ],
            "text/plain": [
              "                   Open         High  ...          EMA  Target\n",
              "Date                                  ...                     \n",
              "2014-05-08   507.067841   515.813843  ...   526.898734       1\n",
              "2014-05-09   509.351562   518.476501  ...   525.985498       1\n",
              "2014-05-12   522.076660   528.738342  ...   526.222033       1\n",
              "2014-05-13   529.436462   534.602234  ...   526.737118       0\n",
              "2014-05-14   531.540649   531.540649  ...   526.591495       0\n",
              "...                 ...          ...  ...          ...     ...\n",
              "2021-06-25  2539.139893  2550.100098  ...  2492.146946       0\n",
              "2021-06-28  2540.000000  2546.739990  ...  2496.360560       0\n",
              "2021-06-29  2535.449951  2540.000000  ...  2498.647184       0\n",
              "2021-06-30  2513.071045  2516.000000  ...  2499.377935       1\n",
              "2021-07-01  2496.995117  2529.250000  ...  2502.043857       0\n",
              "\n",
              "[1801 rows x 14 columns]"
            ]
          },
          "metadata": {
            "tags": []
          },
          "execution_count": 52
        }
      ]
    },
    {
      "cell_type": "code",
      "metadata": {
        "id": "2Mc-RPolrUPm"
      },
      "source": [
        "#Split the data again but this time into 80% training and 20% testing data sets\n",
        "X_train, X_test, Y_train, Y_test = train_test_split(X, Y, test_size = 0.2)"
      ],
      "execution_count": 62,
      "outputs": []
    },
    {
      "cell_type": "markdown",
      "metadata": {
        "id": "8BSt0FlrrYMo"
      },
      "source": [
        "Tạo và đào tạo mô hình."
      ]
    },
    {
      "cell_type": "code",
      "metadata": {
        "id": "3sKi4PdKrVie"
      },
      "source": [
        "#Create and train the model \n",
        "tree = DecisionTreeClassifier().fit(X_train, Y_train)\n"
      ],
      "execution_count": 63,
      "outputs": []
    },
    {
      "cell_type": "code",
      "metadata": {
        "colab": {
          "base_uri": "https://localhost:8080/"
        },
        "id": "IDaOKWXWraPO",
        "outputId": "0755cf31-1a0d-4fc9-86a6-a8a51472258c"
      },
      "source": [
        "#Check how well the SVC Model on training data\n",
        "print(tree.score(X_train, Y_train))\n",
        "\n"
      ],
      "execution_count": 64,
      "outputs": [
        {
          "output_type": "stream",
          "text": [
            "1.0\n"
          ],
          "name": "stdout"
        }
      ]
    },
    {
      "cell_type": "code",
      "metadata": {
        "colab": {
          "base_uri": "https://localhost:8080/"
        },
        "id": "zGYlFC-srfX6",
        "outputId": "442bae8f-718b-481c-cf27-27b3a6ef1073"
      },
      "source": [
        "#Check the SVC Model on the test data set\n",
        "print(tree.score(X_test, Y_test))\n"
      ],
      "execution_count": 44,
      "outputs": [
        {
          "output_type": "stream",
          "text": [
            "0.5263157894736842\n"
          ],
          "name": "stdout"
        }
      ]
    },
    {
      "cell_type": "code",
      "metadata": {
        "colab": {
          "base_uri": "https://localhost:8080/"
        },
        "id": "BP_e0tvprf1n",
        "outputId": "85d0ca79-49a0-4037-aa17-951fe4fd72da"
      },
      "source": [
        "#show the model tree predictions\n",
        "tree_predictions = tree.predict(X_test)\n",
        "\n",
        "print(tree_predictions)\n"
      ],
      "execution_count": 65,
      "outputs": [
        {
          "output_type": "stream",
          "text": [
            "[0 1 0 1 1 0 0 0 0 1 1 1 0 1 0 1 0 1 1 1 0 0 1 0 1 0 1 1 0 1 0 1 1 1 1 1 1\n",
            " 1 0 1 0 1 0 0 0 0 1 0 1 0 1 1 0 0 1 0 1 0 0 1 0 1 1 0 0 1 1 0 1 0 1 0 0 0\n",
            " 1 1 1 0 0 0 0 1 0 0 0 1 0 0 1 1 1 1 1 0 1 1 1 1 1 1 1 0 0 1 1 1 0 0 1 1 1\n",
            " 0 0 0 0 0 1 1 1 0 0 0 1 1 0 1 1 0 0 0 1 1 0 1 0 1 0 1 0 1 1 0 1 1 0 1 1 0\n",
            " 1 1 1 0 1 1 0 0 0 1 1 1 0 0 0 0 1 0 0 1 1 1 1 1 0 1 0 0 0 1 0 1 1 1 1 1 1\n",
            " 0 1 0 1 1 0 1 1 1 0 1 0 1 0 0 1 1 1 0 0 0 0 0 1 1 0 1 0 0 1 1 0 1 0 1 0 0\n",
            " 1 0 0 1 1 0 1 0 0 0 1 1 0 1 1 0 0 0 0 1 0 0 1 1 1 0 1 1 1 0 1 0 1 1 1 0 0\n",
            " 1 1 1 0 0 0 1 0 1 0 0 1 1 1 1 0 0 1 1 0 0 1 1 1 0 1 1 1 1 0 1 1 0 1 1 0 0\n",
            " 0 1 1 0 0 1 0 1 0 1 1 1 0 1 0 0 0 1 0 1 0 1 1 1 1 0 1 1 0 1 1 1 1 0 0 1 0\n",
            " 1 1 1 0 1 1 0 0 1 0 1 1 1 1 1 0 0 1 1 0 1 0 1 1 0 0 1 0]\n"
          ],
          "name": "stdout"
        }
      ]
    },
    {
      "cell_type": "code",
      "metadata": {
        "colab": {
          "base_uri": "https://localhost:8080/"
        },
        "id": "gppz1dmYTAry",
        "outputId": "02f29998-f6e8-4ac3-c876-36eb2679efb9"
      },
      "source": [
        "tree_predictions.shape"
      ],
      "execution_count": 67,
      "outputs": [
        {
          "output_type": "execute_result",
          "data": {
            "text/plain": [
              "(361,)"
            ]
          },
          "metadata": {
            "tags": []
          },
          "execution_count": 67
        }
      ]
    },
    {
      "cell_type": "code",
      "metadata": {
        "colab": {
          "base_uri": "https://localhost:8080/"
        },
        "id": "moxqZuzcrhrN",
        "outputId": "ed0dbd98-70e7-4a87-a728-9a67bb98a2b2"
      },
      "source": [
        "from sklearn.metrics import classification_report\n",
        "print(classification_report(Y_test, tree_predictions))"
      ],
      "execution_count": 66,
      "outputs": [
        {
          "output_type": "stream",
          "text": [
            "              precision    recall  f1-score   support\n",
            "\n",
            "           0       0.58      0.53      0.55       177\n",
            "           1       0.58      0.62      0.60       184\n",
            "\n",
            "    accuracy                           0.58       361\n",
            "   macro avg       0.58      0.58      0.58       361\n",
            "weighted avg       0.58      0.58      0.58       361\n",
            "\n"
          ],
          "name": "stdout"
        }
      ]
    },
    {
      "cell_type": "markdown",
      "metadata": {
        "id": "W2ULmV1C-tKf"
      },
      "source": [
        "linear regrestion\n",
        "\n"
      ]
    },
    {
      "cell_type": "code",
      "metadata": {
        "colab": {
          "base_uri": "https://localhost:8080/",
          "height": 449
        },
        "id": "oA8xaYyJNuYe",
        "outputId": "a99fe4de-0bce-4c97-ac76-c626574fd535"
      },
      "source": [
        "dataGOOG"
      ],
      "execution_count": 72,
      "outputs": [
        {
          "output_type": "execute_result",
          "data": {
            "text/html": [
              "<div>\n",
              "<style scoped>\n",
              "    .dataframe tbody tr th:only-of-type {\n",
              "        vertical-align: middle;\n",
              "    }\n",
              "\n",
              "    .dataframe tbody tr th {\n",
              "        vertical-align: top;\n",
              "    }\n",
              "\n",
              "    .dataframe thead th {\n",
              "        text-align: right;\n",
              "    }\n",
              "</style>\n",
              "<table border=\"1\" class=\"dataframe\">\n",
              "  <thead>\n",
              "    <tr style=\"text-align: right;\">\n",
              "      <th></th>\n",
              "      <th>Open</th>\n",
              "      <th>High</th>\n",
              "      <th>Low</th>\n",
              "      <th>Close</th>\n",
              "      <th>Adj Close</th>\n",
              "      <th>Volume</th>\n",
              "      <th>Target</th>\n",
              "    </tr>\n",
              "    <tr>\n",
              "      <th>Date</th>\n",
              "      <th></th>\n",
              "      <th></th>\n",
              "      <th></th>\n",
              "      <th></th>\n",
              "      <th></th>\n",
              "      <th></th>\n",
              "      <th></th>\n",
              "    </tr>\n",
              "  </thead>\n",
              "  <tbody>\n",
              "    <tr>\n",
              "      <th>2014-03-27</th>\n",
              "      <td>566.444824</td>\n",
              "      <td>566.444824</td>\n",
              "      <td>551.406128</td>\n",
              "      <td>556.930969</td>\n",
              "      <td>556.930969</td>\n",
              "      <td>13136</td>\n",
              "      <td>1</td>\n",
              "    </tr>\n",
              "    <tr>\n",
              "      <th>2014-03-28</th>\n",
              "      <td>559.663452</td>\n",
              "      <td>564.879150</td>\n",
              "      <td>557.140381</td>\n",
              "      <td>558.456787</td>\n",
              "      <td>558.456787</td>\n",
              "      <td>41213</td>\n",
              "      <td>0</td>\n",
              "    </tr>\n",
              "    <tr>\n",
              "      <th>2014-03-31</th>\n",
              "      <td>565.337891</td>\n",
              "      <td>565.447571</td>\n",
              "      <td>555.405151</td>\n",
              "      <td>555.445007</td>\n",
              "      <td>555.445007</td>\n",
              "      <td>10830</td>\n",
              "      <td>1</td>\n",
              "    </tr>\n",
              "    <tr>\n",
              "      <th>2014-04-01</th>\n",
              "      <td>557.180237</td>\n",
              "      <td>566.893616</td>\n",
              "      <td>557.180237</td>\n",
              "      <td>565.607117</td>\n",
              "      <td>565.607117</td>\n",
              "      <td>7922</td>\n",
              "      <td>0</td>\n",
              "    </tr>\n",
              "    <tr>\n",
              "      <th>2014-04-02</th>\n",
              "      <td>598.347229</td>\n",
              "      <td>603.174011</td>\n",
              "      <td>560.650757</td>\n",
              "      <td>565.447571</td>\n",
              "      <td>565.447571</td>\n",
              "      <td>147103</td>\n",
              "      <td>1</td>\n",
              "    </tr>\n",
              "    <tr>\n",
              "      <th>...</th>\n",
              "      <td>...</td>\n",
              "      <td>...</td>\n",
              "      <td>...</td>\n",
              "      <td>...</td>\n",
              "      <td>...</td>\n",
              "      <td>...</td>\n",
              "      <td>...</td>\n",
              "    </tr>\n",
              "    <tr>\n",
              "      <th>2021-06-25</th>\n",
              "      <td>2539.139893</td>\n",
              "      <td>2550.100098</td>\n",
              "      <td>2528.879883</td>\n",
              "      <td>2539.899902</td>\n",
              "      <td>2539.899902</td>\n",
              "      <td>1674200</td>\n",
              "      <td>0</td>\n",
              "    </tr>\n",
              "    <tr>\n",
              "      <th>2021-06-28</th>\n",
              "      <td>2540.000000</td>\n",
              "      <td>2546.739990</td>\n",
              "      <td>2519.476074</td>\n",
              "      <td>2536.389893</td>\n",
              "      <td>2536.389893</td>\n",
              "      <td>1405500</td>\n",
              "      <td>0</td>\n",
              "    </tr>\n",
              "    <tr>\n",
              "      <th>2021-06-29</th>\n",
              "      <td>2535.449951</td>\n",
              "      <td>2540.000000</td>\n",
              "      <td>2508.739990</td>\n",
              "      <td>2520.370117</td>\n",
              "      <td>2520.370117</td>\n",
              "      <td>1047500</td>\n",
              "      <td>0</td>\n",
              "    </tr>\n",
              "    <tr>\n",
              "      <th>2021-06-30</th>\n",
              "      <td>2513.071045</td>\n",
              "      <td>2516.000000</td>\n",
              "      <td>2495.149902</td>\n",
              "      <td>2506.320068</td>\n",
              "      <td>2506.320068</td>\n",
              "      <td>1200300</td>\n",
              "      <td>1</td>\n",
              "    </tr>\n",
              "    <tr>\n",
              "      <th>2021-07-01</th>\n",
              "      <td>2496.995117</td>\n",
              "      <td>2529.250000</td>\n",
              "      <td>2496.995117</td>\n",
              "      <td>2527.370117</td>\n",
              "      <td>2527.370117</td>\n",
              "      <td>856000</td>\n",
              "      <td>0</td>\n",
              "    </tr>\n",
              "  </tbody>\n",
              "</table>\n",
              "<p>1830 rows × 7 columns</p>\n",
              "</div>"
            ],
            "text/plain": [
              "                   Open         High          Low  ...    Adj Close   Volume  Target\n",
              "Date                                               ...                              \n",
              "2014-03-27   566.444824   566.444824   551.406128  ...   556.930969    13136       1\n",
              "2014-03-28   559.663452   564.879150   557.140381  ...   558.456787    41213       0\n",
              "2014-03-31   565.337891   565.447571   555.405151  ...   555.445007    10830       1\n",
              "2014-04-01   557.180237   566.893616   557.180237  ...   565.607117     7922       0\n",
              "2014-04-02   598.347229   603.174011   560.650757  ...   565.447571   147103       1\n",
              "...                 ...          ...          ...  ...          ...      ...     ...\n",
              "2021-06-25  2539.139893  2550.100098  2528.879883  ...  2539.899902  1674200       0\n",
              "2021-06-28  2540.000000  2546.739990  2519.476074  ...  2536.389893  1405500       0\n",
              "2021-06-29  2535.449951  2540.000000  2508.739990  ...  2520.370117  1047500       0\n",
              "2021-06-30  2513.071045  2516.000000  2495.149902  ...  2506.320068  1200300       1\n",
              "2021-07-01  2496.995117  2529.250000  2496.995117  ...  2527.370117   856000       0\n",
              "\n",
              "[1830 rows x 7 columns]"
            ]
          },
          "metadata": {
            "tags": []
          },
          "execution_count": 72
        }
      ]
    },
    {
      "cell_type": "code",
      "metadata": {
        "id": "EF2FxtatN-8C"
      },
      "source": [
        "#Split the data set into a feature or independent data set (X) and a target or dependent data set (Y)\n",
        "dataGOOG['Target'] = np.where(dataGOOG['Close'].shift(-1) > dataGOOG['Close'], 1, 0) # if tomorrows price is greater than todays price put 1 else put 0\n",
        "keep_columns = ['Close', 'Open']\n",
        "X = dataGOOG[keep_columns].values\n",
        "#X = dataGOOG['Close'].values\n",
        "#X.reshape(1,-1)"
      ],
      "execution_count": 73,
      "outputs": []
    },
    {
      "cell_type": "code",
      "metadata": {
        "id": "8hhHksiIPDWF"
      },
      "source": [
        "Y = dataGOOG['Target'].values\n",
        "#Y.reshape(1,-1)"
      ],
      "execution_count": 74,
      "outputs": []
    },
    {
      "cell_type": "code",
      "metadata": {
        "id": "fJXvI7ZdNtqX"
      },
      "source": [
        "#Split the data again but this time into 80% training and 20% testing data sets\n",
        "X_train, X_test, Y_train, Y_test = train_test_split(X, Y, test_size = 0.2)"
      ],
      "execution_count": 75,
      "outputs": []
    },
    {
      "cell_type": "code",
      "metadata": {
        "id": "mlm2DoY9_GaB"
      },
      "source": [
        "reg = LinearRegression().fit(X_train, Y_train)"
      ],
      "execution_count": 45,
      "outputs": []
    },
    {
      "cell_type": "code",
      "metadata": {
        "id": "dLZ0i8kQQLhq"
      },
      "source": [
        "reg_predictions = reg.predict(X_test)"
      ],
      "execution_count": 47,
      "outputs": []
    },
    {
      "cell_type": "code",
      "metadata": {
        "colab": {
          "base_uri": "https://localhost:8080/"
        },
        "id": "gj6mlkoBSNsE",
        "outputId": "746fd7ff-4a4a-49a6-c84a-e650bef36787"
      },
      "source": [
        "#df_EMA['Target'] = np.where(df_EMA['Close'].shift(-1) > df_EMA['Close'], 1, 0) # if tomorrows price is greater than todays price put 1 else put 0\n",
        "reg_predictions = np.where(reg_predictions >0.5,1,0 )\n",
        "reg_predictions"
      ],
      "execution_count": 69,
      "outputs": [
        {
          "output_type": "execute_result",
          "data": {
            "text/plain": [
              "array([1, 0, 0, 1, 1, 0, 1, 1, 1, 1, 1, 1, 1, 1, 1, 1, 1, 1, 1, 1, 1, 1,\n",
              "       0, 1, 1, 1, 1, 1, 1, 0, 1, 1, 1, 1, 1, 0, 1, 1, 1, 1, 0, 1, 1, 1,\n",
              "       1, 1, 1, 1, 1, 1, 1, 1, 1, 1, 0, 0, 1, 1, 1, 1, 1, 1, 1, 1, 1, 0,\n",
              "       1, 1, 1, 1, 1, 1, 1, 1, 1, 1, 1, 1, 1, 1, 1, 1, 1, 0, 1, 1, 1, 1,\n",
              "       1, 0, 1, 0, 1, 1, 0, 1, 1, 0, 1, 1, 1, 1, 1, 1, 1, 1, 1, 1, 1, 1,\n",
              "       0, 1, 1, 1, 1, 1, 1, 0, 1, 1, 1, 1, 1, 1, 1, 1, 0, 1, 1, 1, 1, 1,\n",
              "       1, 0, 1, 1, 1, 0, 1, 1, 1, 0, 1, 1, 1, 1, 0, 1, 1, 1, 1, 1, 1, 1,\n",
              "       1, 0, 1, 1, 1, 0, 1, 1, 1, 1, 0, 1, 1, 1, 1, 1, 1, 1, 1, 1, 1, 1,\n",
              "       1, 1, 1, 1, 0, 1, 1, 1, 1, 1, 1, 1, 1, 1, 1, 1, 1, 1, 1, 1, 1, 1,\n",
              "       0, 1, 1, 1, 1, 1, 1, 1, 1, 1, 0, 1, 1, 1, 1, 1, 1, 1, 1, 1, 1, 1,\n",
              "       1, 1, 1, 0, 1, 1, 1, 1, 1, 1, 1, 1, 1, 1, 1, 1, 1, 1, 1, 1, 0, 0,\n",
              "       1, 1, 1, 0, 0, 1, 1, 1, 1, 0, 1, 1, 1, 0, 0, 1, 1, 1, 1, 1, 0, 1,\n",
              "       1, 1, 1, 1, 1, 0, 1, 1, 1, 1, 1, 1, 1, 0, 0, 1, 0, 1, 1, 1, 1, 1,\n",
              "       0, 1, 1, 1, 1, 1, 1, 1, 1, 1, 1, 1, 1, 0, 1, 1, 1, 1, 1, 1, 0, 1,\n",
              "       1, 1, 1, 1, 1, 1, 1, 1, 1, 1, 1, 0, 1, 1, 1, 1, 1, 1, 1, 1, 1, 1,\n",
              "       1, 1, 1, 1, 1, 1, 1, 1, 1, 1, 1, 1, 1, 1, 1, 0, 1, 1, 1, 1, 1, 1,\n",
              "       1, 1, 1, 1, 1, 1, 1, 1, 1, 1, 1, 1, 1, 1])"
            ]
          },
          "metadata": {
            "tags": []
          },
          "execution_count": 69
        }
      ]
    },
    {
      "cell_type": "code",
      "metadata": {
        "colab": {
          "base_uri": "https://localhost:8080/"
        },
        "id": "sxFVv1HPOdOx",
        "outputId": "1504ee26-ddbe-4f46-8422-d2da62ede71a"
      },
      "source": [
        "from sklearn.metrics import classification_report\n",
        "print(classification_report(Y_test, reg_predictions))"
      ],
      "execution_count": 76,
      "outputs": [
        {
          "output_type": "stream",
          "text": [
            "              precision    recall  f1-score   support\n",
            "\n",
            "           0       0.43      0.11      0.18       174\n",
            "           1       0.52      0.86      0.65       192\n",
            "\n",
            "    accuracy                           0.51       366\n",
            "   macro avg       0.48      0.49      0.42       366\n",
            "weighted avg       0.48      0.51      0.43       366\n",
            "\n"
          ],
          "name": "stdout"
        }
      ]
    },
    {
      "cell_type": "code",
      "metadata": {
        "id": "nda407kKSFa2"
      },
      "source": [
        ""
      ],
      "execution_count": null,
      "outputs": []
    }
  ]
}